{
 "cells": [
  {
   "cell_type": "markdown",
   "metadata": {},
   "source": [
    "# Import\n",
    "For this to work, the data files need to be placed into the `data/raw` folder."
   ]
  },
  {
   "cell_type": "code",
   "execution_count": 1,
   "metadata": {},
   "outputs": [],
   "source": [
    "from pathlib import Path\n",
    "import pandas as pd\n",
    "import plotly_express as px\n",
    "\n",
    "\n",
    "# # This is needed to have figures appear in external HTML file.\n",
    "# from plotly.offline import init_notebook_mode\n",
    "# init_notebook_mode()"
   ]
  },
  {
   "cell_type": "code",
   "execution_count": 2,
   "metadata": {},
   "outputs": [],
   "source": [
    "SEP17_CSV = Path('../data/raw') / 'SEP2017.csv'\n",
    "OCT17_CSV = Path('../data/raw') / 'OCT2017.csv'\n",
    "NOV17_CSV = Path('../data/raw') / 'NOV2017.csv'\n",
    "APR18_CSV = Path('../data/raw') / 'APR2018.csv'\n",
    "MAY18_CSV = Path('../data/raw') / 'MAY2018.csv'\n",
    "\n",
    "raw_sep_df = pd.read_csv(SEP17_CSV)\n",
    "raw_oct_df = pd.read_csv(OCT17_CSV)\n",
    "raw_nov_df = pd.read_csv(NOV17_CSV)\n",
    "raw_apr_df = pd.read_csv(APR18_CSV)\n",
    "raw_may_df = pd.read_csv(MAY18_CSV)\n",
    "\n",
    "# Bring 'em all together into one dataframe.\n",
    "raw_df = raw_sep_df.append(raw_oct_df).append(raw_nov_df).append(raw_apr_df).append(raw_may_df)"
   ]
  },
  {
   "cell_type": "markdown",
   "metadata": {},
   "source": [
    "# Data\n",
    "\n",
    "These csv files are joins of the `init_veh_stoph` and `trimet_stop_event` tables. Here's an example query used to make them. Nevermind, that looks bad. So here's the query parameters.\n",
    "\n",
    "* Routes 4, 10 and 14\n",
    "* All stop types (service stops are 0 or 5)\n",
    "* Stops 3637, 3641, 3633, 2642, 7856\n",
    "    * 3637 - SE 11th and SE Madison [Just before the start of bus lane - actually begins at 10th]\n",
    "    * 3641 - SE 7th and SE Madison \n",
    "    * 3633 - SE Grand and SE Madison [End of bus lane]\n",
    "    * 2642 - Hawthorne Bridge, Westbound [Likely outside of this analysis]\n",
    "    * 7856 - SE 7th and SE Clay [4 (or 2) bus only]\n",
    "* Weekday service (code 'W')\n",
    "* Between 5:00 am (18000) and 12:00 pm (43200)"
   ]
  },
  {
   "cell_type": "markdown",
   "metadata": {},
   "source": [
    "# Goal\n",
    "\n",
    "So the goal here is to see how long the busses take to traverse the bus lane from 9:00 am (32400) until 10:00 am (36000), and see if there's an obvious change over time.\n",
    "\n",
    "As we learned before, lets start with route 14, from arrival at stop 3637 to arrival at 3633. We have ridership data too, but we'll look at that later.\n",
    "\n",
    "## Columns\n",
    "For now, let's limit the columns to the following:\n",
    "* SERVICE_DATE   \n",
    "* VEHICLE_NUMBER\n",
    "* TRAIN\n",
    "* ROUTE_NUMBER\n",
    "* LEAVE_TIME\n",
    "* STOP_TIME\n",
    "* ARRIVE_TIME\n",
    "* LOCATION_ID\n",
    "* ESTIMATED_LOAD\n",
    "* STOP_TYPE"
   ]
  },
  {
   "cell_type": "code",
   "execution_count": 3,
   "metadata": {},
   "outputs": [
    {
     "name": "stdout",
     "output_type": "stream",
     "text": [
      "(992, 10)\n"
     ]
    }
   ],
   "source": [
    "cols = ['SERVICE_DATE', 'VEHICLE_NUMBER', 'TRAIN', 'ROUTE_NUMBER', 'LEAVE_TIME', 'STOP_TIME', 'ARRIVE_TIME', 'LOCATION_ID', 'ESTIMATED_LOAD', 'STOP_TYPE']\n",
    "filt_df = raw_df[cols][(raw_df['ROUTE_NUMBER'] == 14) & \n",
    "                       (raw_df['STOP_TIME'].between(32400, 36000)) &\n",
    "                       (raw_df['LOCATION_ID'].isin([3637, 3633])) & \n",
    "                       (raw_df['STOP_TYPE'].isin([0, 5]))]\n",
    "# Convert to datetime so they can be sorted\n",
    "filt_df['SERVICE_DATE'] = pd.to_datetime(filt_df['SERVICE_DATE'], format='%d%b%Y:%H:%M:%S')\n",
    "filt_df.sort_values('SERVICE_DATE', inplace=True)\n",
    "print(filt_df.shape)"
   ]
  },
  {
   "cell_type": "markdown",
   "metadata": {},
   "source": [
    "Sanity check here. `filt_df.shape` gives us `(992, 10)` entries. A trip contains two entries (start and stop), so that's 496 bus trips. If we assume 22 weekdays per month, over 5 months, that's 110 weekdays. 496 bus trips / 110 weekdays = ~ 4.5 bus trips per weekday over this 1 hour window. 4.5 bus trips / 60 min = ~ 13 min inbetween trips. That seems reasonable."
   ]
  },
  {
   "cell_type": "code",
   "execution_count": 4,
   "metadata": {},
   "outputs": [],
   "source": [
    "# To filter this all down, let's first group by date, then train number within the date.\n",
    "grouped = filt_df.groupby(['SERVICE_DATE', 'TRAIN'])\n",
    "\n",
    "# How we'll make the output (to convert to DataFrame)\n",
    "bus_trips = {'date': [], 'train': [], 'is_complete_trip': [], 'start_time': [], 'end_time': []}\n",
    "\n",
    "for name, group in grouped:\n",
    "    # If a group doesn't have 2 entries, then we can't calculate and elapsed time. We'll flag them for now and deal with them later.\n",
    "    if group.shape[0] != 2:\n",
    "        bus_trips['is_complete_trip'] = False\n",
    "    else:\n",
    "        bus_trips['is_complete_trip'] = True\n",
    "    bus_trips['date'].append(name[0])\n",
    "    bus_trips['train'].append(name[1])\n",
    "    try:\n",
    "        bus_trips['start_time'].append(group[group['LOCATION_ID'] == 3637]['ARRIVE_TIME'].values[0])\n",
    "    except IndexError:\n",
    "        bus_trips['start_time'].append(None)\n",
    "    \n",
    "    try: \n",
    "        bus_trips['end_time'].append(group[group['LOCATION_ID'] == 3633]['ARRIVE_TIME'].values[0])\n",
    "    except IndexError:\n",
    "        bus_trips['end_time'].append(None)\n",
    "    \n",
    "trips_df = pd.DataFrame(bus_trips)\n",
    "trips_df['elapsed_time'] = trips_df['end_time'] - trips_df['start_time']"
   ]
  },
  {
   "cell_type": "code",
   "execution_count": null,
   "metadata": {},
   "outputs": [],
   "source": [
    "px.scatter(trips_df[trips_df['is_complete_trip']], x='date', y='elapsed_time', labels={'date': 'Service date', 'elapsed_time': 'Trip duration [sec]'},\n",
    "#            range_x=[pd.to_datetime('01SEP2017', format='%d%b%Y'), pd.to_datetime('01DEC2017', format='%d%b%Y')],\n",
    "           title='Every trip')"
   ]
  },
  {
   "cell_type": "code",
   "execution_count": null,
   "metadata": {},
   "outputs": [],
   "source": [
    "day_averages = {'date': [], 'elapsed_time': []}\n",
    "for name, group in trips_df.groupby('date'):\n",
    "    day_averages['date'].append(name)\n",
    "    day_averages['elapsed_time'].append(group.mean()['elapsed_time'])\n",
    "avg_df = pd.DataFrame(day_averages)\n",
    "\n",
    "px.scatter(avg_df, x='date', y='elapsed_time', labels={'date': 'Service date', 'elapsed_time': 'Trip duration [sec]'},\n",
    "#            range_x=[pd.to_datetime('01SEP2017', format='%d%b%Y'), pd.to_datetime('01DEC2017', format='%d%b%Y')],\n",
    "           title='Average over a day')"
   ]
  }
 ],
 "metadata": {
  "kernelspec": {
   "display_name": "Python 3",
   "language": "python",
   "name": "python3"
  },
  "language_info": {
   "codemirror_mode": {
    "name": "ipython",
    "version": 3
   },
   "file_extension": ".py",
   "mimetype": "text/x-python",
   "name": "python",
   "nbconvert_exporter": "python",
   "pygments_lexer": "ipython3",
   "version": "3.7.2"
  }
 },
 "nbformat": 4,
 "nbformat_minor": 2
}
