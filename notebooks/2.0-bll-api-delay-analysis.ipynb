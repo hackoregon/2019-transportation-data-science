{
 "cells": [
  {
   "cell_type": "code",
   "execution_count": 1,
   "metadata": {},
   "outputs": [],
   "source": [
    "import pandas as pd\n",
    "import requests\n",
    "import numpy as np\n",
    "from pandas.io.json import json_normalize \n",
    "pd.set_option('display.max_columns', None)  "
   ]
  },
  {
   "cell_type": "code",
   "execution_count": 2,
   "metadata": {},
   "outputs": [],
   "source": [
    "def get_data(url):\n",
    "    response = requests.get(url)\n",
    "    d = response.json()\n",
    "    data = d['results']\n",
    "    return data"
   ]
  },
  {
   "cell_type": "markdown",
   "metadata": {},
   "source": [
    "Mimic basic disturbance delay analysis for the SE Madison corridor for September 2017 vs. September 2018.  \n",
    "See cells 30-55 in this notebook https://github.com/hackoregon/2019-transportation-data-science/blob/master/notebooks/1.0-bll-madison-corridor-travel-and-delay-analysis.ipynb for a similar analysis on the raw data  \n",
    "  \n",
    "Define API call in url variable. For examples navigate to http://service.civicpdx.org/transportation2019/v1/schema/ and click \"Try it out.\"  \n",
    "Then paste the \"Request URL\" here. "
   ]
  },
  {
   "cell_type": "code",
   "execution_count": 3,
   "metadata": {},
   "outputs": [],
   "source": [
    "url = 'http://service.civicpdx.org/transportation2019/v1/toad/disturbanceStops/?limit=10000&months=9&time_range=9,10&years=2017,2018&lines=10,14&service_key=W'"
   ]
  },
  {
   "cell_type": "code",
   "execution_count": 4,
   "metadata": {},
   "outputs": [],
   "source": [
    "data = get_data(url)"
   ]
  },
  {
   "cell_type": "code",
   "execution_count": 5,
   "metadata": {},
   "outputs": [
    {
     "name": "stdout",
     "output_type": "stream",
     "text": [
      "<class 'pandas.core.frame.DataFrame'>\n",
      "RangeIndex: 5773 entries, 0 to 5772\n",
      "Data columns (total 19 columns):\n",
      "geometry.coordinates             5773 non-null object\n",
      "geometry.type                    5773 non-null object\n",
      "id                               5773 non-null int64\n",
      "properties.act_arr_time          5773 non-null object\n",
      "properties.act_dep_time          5773 non-null object\n",
      "properties.day                   5773 non-null int64\n",
      "properties.day_of_week           5773 non-null int64\n",
      "properties.duration              5773 non-null object\n",
      "properties.end_quarter_hour      5773 non-null float64\n",
      "properties.latitude              5773 non-null float64\n",
      "properties.line_id               5773 non-null int64\n",
      "properties.longitude             5773 non-null float64\n",
      "properties.month                 5773 non-null int64\n",
      "properties.opd_date              5773 non-null object\n",
      "properties.pattern_direction     5773 non-null object\n",
      "properties.service_key           5773 non-null object\n",
      "properties.start_quarter_hour    5773 non-null float64\n",
      "properties.year                  5773 non-null int64\n",
      "type                             5773 non-null object\n",
      "dtypes: float64(4), int64(6), object(9)\n",
      "memory usage: 857.0+ KB\n"
     ]
    }
   ],
   "source": [
    "disturbance_stops = pd.DataFrame.from_dict(json_normalize(data['features']))\n",
    "disturbance_stops.info()"
   ]
  },
  {
   "cell_type": "code",
   "execution_count": 6,
   "metadata": {},
   "outputs": [
    {
     "name": "stdout",
     "output_type": "stream",
     "text": [
      "<class 'pandas.core.frame.DataFrame'>\n",
      "Int64Index: 233 entries, 33 to 5762\n",
      "Data columns (total 19 columns):\n",
      "geometry.coordinates             233 non-null object\n",
      "geometry.type                    233 non-null object\n",
      "id                               233 non-null int64\n",
      "properties.act_arr_time          233 non-null object\n",
      "properties.act_dep_time          233 non-null object\n",
      "properties.day                   233 non-null int64\n",
      "properties.day_of_week           233 non-null int64\n",
      "properties.duration              233 non-null object\n",
      "properties.end_quarter_hour      233 non-null float64\n",
      "properties.latitude              233 non-null float64\n",
      "properties.line_id               233 non-null int64\n",
      "properties.longitude             233 non-null float64\n",
      "properties.month                 233 non-null int64\n",
      "properties.opd_date              233 non-null object\n",
      "properties.pattern_direction     233 non-null object\n",
      "properties.service_key           233 non-null object\n",
      "properties.start_quarter_hour    233 non-null float64\n",
      "properties.year                  233 non-null int64\n",
      "type                             233 non-null object\n",
      "dtypes: float64(4), int64(6), object(9)\n",
      "memory usage: 36.4+ KB\n"
     ]
    }
   ],
   "source": [
    "# No stop ID parameter, use longitude to filter by 11th and SE Madison to SE Grand & SE Madison \n",
    "disturbance_stops = disturbance_stops[(disturbance_stops['properties.longitude'] <= -122.654728) & (disturbance_stops['properties.longitude'] >= -122.660740)]\n",
    "disturbance_stops.info()"
   ]
  },
  {
   "cell_type": "code",
   "execution_count": 7,
   "metadata": {},
   "outputs": [
    {
     "data": {
      "text/plain": [
       "137"
      ]
     },
     "execution_count": 7,
     "metadata": {},
     "output_type": "execute_result"
    }
   ],
   "source": [
    "# Get number of rows for 2017 to see total disturbance stops\n",
    "len(disturbance_stops[disturbance_stops['properties.year'] == 2017])"
   ]
  },
  {
   "cell_type": "code",
   "execution_count": 8,
   "metadata": {},
   "outputs": [
    {
     "data": {
      "text/plain": [
       "96"
      ]
     },
     "execution_count": 8,
     "metadata": {},
     "output_type": "execute_result"
    }
   ],
   "source": [
    "# Get number of rows for 2018 to see total disturbance stops\n",
    "len(disturbance_stops[disturbance_stops['properties.year'] == 2018])"
   ]
  },
  {
   "cell_type": "code",
   "execution_count": 9,
   "metadata": {},
   "outputs": [],
   "source": [
    "# Convert duration to seconds\n",
    "disturbance_stops['properties.duration'] = pd.to_timedelta(disturbance_stops['properties.duration'], unit='s')"
   ]
  },
  {
   "cell_type": "code",
   "execution_count": 10,
   "metadata": {},
   "outputs": [
    {
     "data": {
      "text/plain": [
       "3607.0"
      ]
     },
     "execution_count": 10,
     "metadata": {},
     "output_type": "execute_result"
    }
   ],
   "source": [
    "# Get total delay in seconds throughout the corridor for 2017\n",
    "disturbance_stops[disturbance_stops['properties.year'] == 2017]['properties.duration'].dt.total_seconds().sum()"
   ]
  },
  {
   "cell_type": "code",
   "execution_count": 11,
   "metadata": {},
   "outputs": [
    {
     "data": {
      "text/plain": [
       "2375.0"
      ]
     },
     "execution_count": 11,
     "metadata": {},
     "output_type": "execute_result"
    }
   ],
   "source": [
    "# Get total delay in seconds throughout the corridor for 2018\n",
    "disturbance_stops[disturbance_stops['properties.year'] == 2018]['properties.duration'].dt.total_seconds().sum()"
   ]
  },
  {
   "cell_type": "markdown",
   "metadata": {},
   "source": [
    "Use new data from the /transportation2019/v1/toad/busPassengerStops/ endpoint to analyze late arrival times and ons and offs at the Madison corridor for September 2017 vs. September 2018."
   ]
  },
  {
   "cell_type": "code",
   "execution_count": 12,
   "metadata": {},
   "outputs": [],
   "source": [
    "url = 'http://service.civicpdx.org/transportation2019/v1/toad/busPassengerStops/?limit=10000&lines=10,14&stops=3637,3641,3633&time_range=9,10&service_key=W'"
   ]
  },
  {
   "cell_type": "code",
   "execution_count": 13,
   "metadata": {},
   "outputs": [],
   "source": [
    "data = get_data(url)"
   ]
  },
  {
   "cell_type": "code",
   "execution_count": 14,
   "metadata": {},
   "outputs": [
    {
     "name": "stdout",
     "output_type": "stream",
     "text": [
      "<class 'pandas.core.frame.DataFrame'>\n",
      "RangeIndex: 6522 entries, 0 to 6521\n",
      "Data columns (total 23 columns):\n",
      "geometry.coordinates              6522 non-null object\n",
      "geometry.type                     6522 non-null object\n",
      "id                                6522 non-null int64\n",
      "properties.arrive_quarter_hour    6522 non-null float64\n",
      "properties.arrive_time            6522 non-null object\n",
      "properties.arriving_load          6522 non-null int64\n",
      "properties.direction              6522 non-null int64\n",
      "properties.door                   6522 non-null int64\n",
      "properties.dwell                  6522 non-null int64\n",
      "properties.estimated_load         6522 non-null int64\n",
      "properties.leave_time             6522 non-null object\n",
      "properties.lift                   6522 non-null int64\n",
      "properties.location_id            6522 non-null int64\n",
      "properties.offs                   6522 non-null int64\n",
      "properties.ons                    6522 non-null int64\n",
      "properties.route_number           6522 non-null int64\n",
      "properties.seconds_late           6522 non-null int64\n",
      "properties.service_date           6522 non-null object\n",
      "properties.service_key            6522 non-null object\n",
      "properties.stop_time              6522 non-null object\n",
      "properties.train_mileage          6522 non-null float64\n",
      "properties.vehicle_id             6522 non-null int64\n",
      "type                              6522 non-null object\n",
      "dtypes: float64(2), int64(13), object(8)\n",
      "memory usage: 1.1+ MB\n"
     ]
    }
   ],
   "source": [
    "passenger_stops = pd.DataFrame.from_dict(json_normalize(data['features']))\n",
    "passenger_stops.info()"
   ]
  },
  {
   "cell_type": "code",
   "execution_count": 15,
   "metadata": {},
   "outputs": [],
   "source": [
    "# Convert properties.service_date to datetime\n",
    "passenger_stops['properties.service_date'] =  pd.to_datetime(passenger_stops['properties.service_date'])"
   ]
  },
  {
   "cell_type": "code",
   "execution_count": 16,
   "metadata": {},
   "outputs": [
    {
     "name": "stdout",
     "output_type": "stream",
     "text": [
      "<class 'pandas.core.frame.DataFrame'>\n",
      "Int64Index: 993 entries, 0 to 3200\n",
      "Data columns (total 23 columns):\n",
      "geometry.coordinates              993 non-null object\n",
      "geometry.type                     993 non-null object\n",
      "id                                993 non-null int64\n",
      "properties.arrive_quarter_hour    993 non-null float64\n",
      "properties.arrive_time            993 non-null object\n",
      "properties.arriving_load          993 non-null int64\n",
      "properties.direction              993 non-null int64\n",
      "properties.door                   993 non-null int64\n",
      "properties.dwell                  993 non-null int64\n",
      "properties.estimated_load         993 non-null int64\n",
      "properties.leave_time             993 non-null object\n",
      "properties.lift                   993 non-null int64\n",
      "properties.location_id            993 non-null int64\n",
      "properties.offs                   993 non-null int64\n",
      "properties.ons                    993 non-null int64\n",
      "properties.route_number           993 non-null int64\n",
      "properties.seconds_late           993 non-null int64\n",
      "properties.service_date           993 non-null datetime64[ns]\n",
      "properties.service_key            993 non-null object\n",
      "properties.stop_time              993 non-null object\n",
      "properties.train_mileage          993 non-null float64\n",
      "properties.vehicle_id             993 non-null int64\n",
      "type                              993 non-null object\n",
      "dtypes: datetime64[ns](1), float64(2), int64(13), object(7)\n",
      "memory usage: 186.2+ KB\n"
     ]
    }
   ],
   "source": [
    "# Filter to only September 2017 and September 2018\n",
    "passenger_stops = passenger_stops[((passenger_stops['properties.service_date'] >= '2018-09-01') & (passenger_stops['properties.service_date'] < '2018-10-01')) | ((passenger_stops['properties.service_date'] >= '2017-09-01') & (passenger_stops['properties.service_date'] < '2017-10-01'))]\n",
    "passenger_stops.info()"
   ]
  },
  {
   "cell_type": "code",
   "execution_count": 17,
   "metadata": {},
   "outputs": [
    {
     "data": {
      "text/plain": [
       "91292"
      ]
     },
     "execution_count": 17,
     "metadata": {},
     "output_type": "execute_result"
    }
   ],
   "source": [
    "# Calculate seconds late throughout the Madison corridor in September 2017\n",
    "passenger_stops[(passenger_stops['properties.service_date'] >= '2017-09-01') & \n",
    "                (passenger_stops['properties.service_date'] < '2017-10-01')]['properties.seconds_late'].sum()"
   ]
  },
  {
   "cell_type": "code",
   "execution_count": 18,
   "metadata": {},
   "outputs": [
    {
     "data": {
      "text/plain": [
       "63098"
      ]
     },
     "execution_count": 18,
     "metadata": {},
     "output_type": "execute_result"
    }
   ],
   "source": [
    "# Calculate seconds late throughout the Madison corridor in September 2018\n",
    "passenger_stops[(passenger_stops['properties.service_date'] >= '2018-09-01') & \n",
    "                (passenger_stops['properties.service_date'] < '2018-10-01')]['properties.seconds_late'].sum()"
   ]
  },
  {
   "cell_type": "code",
   "execution_count": 19,
   "metadata": {},
   "outputs": [
    {
     "data": {
      "text/plain": [
       "289"
      ]
     },
     "execution_count": 19,
     "metadata": {},
     "output_type": "execute_result"
    }
   ],
   "source": [
    "# Calculate total ons throughout the Madison corridor in September 2017\n",
    "passenger_stops[(passenger_stops['properties.service_date'] >= '2017-09-01') & \n",
    "                (passenger_stops['properties.service_date'] < '2017-10-01')]['properties.ons'].sum()"
   ]
  },
  {
   "cell_type": "code",
   "execution_count": 20,
   "metadata": {},
   "outputs": [
    {
     "data": {
      "text/plain": [
       "678"
      ]
     },
     "execution_count": 20,
     "metadata": {},
     "output_type": "execute_result"
    }
   ],
   "source": [
    "# Calculate total offs throughout the Madison corridor in September 2017\n",
    "passenger_stops[(passenger_stops['properties.service_date'] >= '2017-09-01') & \n",
    "                (passenger_stops['properties.service_date'] < '2017-10-01')]['properties.offs'].sum()"
   ]
  },
  {
   "cell_type": "code",
   "execution_count": 21,
   "metadata": {},
   "outputs": [
    {
     "data": {
      "text/plain": [
       "372"
      ]
     },
     "execution_count": 21,
     "metadata": {},
     "output_type": "execute_result"
    }
   ],
   "source": [
    "# Calculate total ons throughout the Madison corridor in September 2018\n",
    "passenger_stops[(passenger_stops['properties.service_date'] >= '2018-09-01') & \n",
    "                (passenger_stops['properties.service_date'] < '2018-10-01')]['properties.ons'].sum()"
   ]
  },
  {
   "cell_type": "code",
   "execution_count": 22,
   "metadata": {},
   "outputs": [
    {
     "data": {
      "text/plain": [
       "480"
      ]
     },
     "execution_count": 22,
     "metadata": {},
     "output_type": "execute_result"
    }
   ],
   "source": [
    "# Calculate total offs throughout the Madison corridor in September 2018\n",
    "passenger_stops[(passenger_stops['properties.service_date'] >= '2018-09-01') & \n",
    "                (passenger_stops['properties.service_date'] < '2018-10-01')]['properties.offs'].sum()"
   ]
  }
 ],
 "metadata": {
  "kernelspec": {
   "display_name": "Python 3",
   "language": "python",
   "name": "python3"
  },
  "language_info": {
   "codemirror_mode": {
    "name": "ipython",
    "version": 3
   },
   "file_extension": ".py",
   "mimetype": "text/x-python",
   "name": "python",
   "nbconvert_exporter": "python",
   "pygments_lexer": "ipython3",
   "version": "3.7.3"
  }
 },
 "nbformat": 4,
 "nbformat_minor": 2
}
