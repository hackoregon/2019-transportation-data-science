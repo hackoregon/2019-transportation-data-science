{
 "cells": [
  {
   "cell_type": "code",
   "execution_count": 1,
   "metadata": {},
   "outputs": [],
   "source": [
    "import pandas as pd\n",
    "import requests\n",
    "import numpy as np\n",
    "import time\n",
    "from pandas.io.json import json_normalize \n",
    "pd.set_option('display.max_columns', None)  "
   ]
  },
  {
   "cell_type": "code",
   "execution_count": 2,
   "metadata": {},
   "outputs": [],
   "source": [
    "def get_data_count(url):\n",
    "    data_count = requests.get(url).json()\n",
    "    print(\"count: \" + str(data_count['count']))"
   ]
  },
  {
   "cell_type": "code",
   "execution_count": 3,
   "metadata": {},
   "outputs": [],
   "source": [
    "def get_data(url):\n",
    "    data = requests.get(url).json()['results']\n",
    "    return pd.DataFrame.from_dict(json_normalize(data))"
   ]
  },
  {
   "cell_type": "code",
   "execution_count": 4,
   "metadata": {},
   "outputs": [],
   "source": [
    "def get_data_features(url):\n",
    "    data = requests.get(url).json()['results']\n",
    "    return pd.DataFrame.from_dict(json_normalize(data['features']))"
   ]
  },
  {
   "cell_type": "markdown",
   "metadata": {},
   "source": [
    "#### Implemented June 2018 Lines 35, 36, 54, 56, 99 - new general purpose left turn lane near eastbound stop at SW Harrison St / 4th Ave.  Bus delay at signal."
   ]
  },
  {
   "cell_type": "code",
   "execution_count": 5,
   "metadata": {},
   "outputs": [],
   "source": [
    "url = 'http://service.civicpdx.org/transportation2019/v1/toad/disturbanceStops/?months=5,7&time_range=14.5,18.75&years=2018&directions=O&lines=35,36,54,56,99&service_key=W&bounds=-122.681233,45.510522,-122.680536,45.510552'"
   ]
  },
  {
   "cell_type": "code",
   "execution_count": 6,
   "metadata": {},
   "outputs": [
    {
     "name": "stdout",
     "output_type": "stream",
     "text": [
      "count: 31\n"
     ]
    }
   ],
   "source": [
    "get_data_count(url)"
   ]
  },
  {
   "cell_type": "code",
   "execution_count": 7,
   "metadata": {},
   "outputs": [],
   "source": [
    "url = 'http://service.civicpdx.org/transportation2019/v1/toad/disturbanceStops/?months=5,7&time_range=14.5,18.75&years=2018&directions=O&lines=35,36,54,56,99&service_key=W&bounds=-122.681233,45.510522,-122.680536,45.510552'"
   ]
  },
  {
   "cell_type": "code",
   "execution_count": 8,
   "metadata": {},
   "outputs": [],
   "source": [
    "harrison_pm = get_data_features(url)"
   ]
  },
  {
   "cell_type": "code",
   "execution_count": 9,
   "metadata": {},
   "outputs": [
    {
     "name": "stdout",
     "output_type": "stream",
     "text": [
      "<class 'pandas.core.frame.DataFrame'>\n",
      "RangeIndex: 31 entries, 0 to 30\n",
      "Data columns (total 19 columns):\n",
      "geometry.coordinates             31 non-null object\n",
      "geometry.type                    31 non-null object\n",
      "id                               31 non-null int64\n",
      "properties.act_arr_time          31 non-null object\n",
      "properties.act_dep_time          31 non-null object\n",
      "properties.day                   31 non-null int64\n",
      "properties.day_of_week           31 non-null int64\n",
      "properties.duration              31 non-null object\n",
      "properties.end_quarter_hour      31 non-null float64\n",
      "properties.latitude              31 non-null float64\n",
      "properties.line_id               31 non-null int64\n",
      "properties.longitude             31 non-null float64\n",
      "properties.month                 31 non-null int64\n",
      "properties.opd_date              31 non-null object\n",
      "properties.pattern_direction     31 non-null object\n",
      "properties.service_key           31 non-null object\n",
      "properties.start_quarter_hour    31 non-null float64\n",
      "properties.year                  31 non-null int64\n",
      "type                             31 non-null object\n",
      "dtypes: float64(4), int64(6), object(9)\n",
      "memory usage: 4.7+ KB\n"
     ]
    }
   ],
   "source": [
    "harrison_pm.info()"
   ]
  },
  {
   "cell_type": "code",
   "execution_count": 10,
   "metadata": {},
   "outputs": [],
   "source": [
    "# Convert duration to seconds\n",
    "harrison_pm['properties.duration'] = pd.to_timedelta(harrison_pm['properties.duration'], unit='s')"
   ]
  },
  {
   "cell_type": "code",
   "execution_count": 11,
   "metadata": {},
   "outputs": [
    {
     "data": {
      "text/html": [
       "<div>\n",
       "<style scoped>\n",
       "    .dataframe tbody tr th:only-of-type {\n",
       "        vertical-align: middle;\n",
       "    }\n",
       "\n",
       "    .dataframe tbody tr th {\n",
       "        vertical-align: top;\n",
       "    }\n",
       "\n",
       "    .dataframe thead th {\n",
       "        text-align: right;\n",
       "    }\n",
       "</style>\n",
       "<table border=\"1\" class=\"dataframe\">\n",
       "  <thead>\n",
       "    <tr style=\"text-align: right;\">\n",
       "      <th></th>\n",
       "      <th>geometry.coordinates</th>\n",
       "      <th>geometry.type</th>\n",
       "      <th>id</th>\n",
       "      <th>properties.act_arr_time</th>\n",
       "      <th>properties.act_dep_time</th>\n",
       "      <th>properties.day</th>\n",
       "      <th>properties.day_of_week</th>\n",
       "      <th>properties.duration</th>\n",
       "      <th>properties.end_quarter_hour</th>\n",
       "      <th>properties.latitude</th>\n",
       "      <th>properties.line_id</th>\n",
       "      <th>properties.longitude</th>\n",
       "      <th>properties.month</th>\n",
       "      <th>properties.opd_date</th>\n",
       "      <th>properties.pattern_direction</th>\n",
       "      <th>properties.service_key</th>\n",
       "      <th>properties.start_quarter_hour</th>\n",
       "      <th>properties.year</th>\n",
       "      <th>type</th>\n",
       "    </tr>\n",
       "  </thead>\n",
       "  <tbody>\n",
       "    <tr>\n",
       "      <th>0</th>\n",
       "      <td>[-122.6811483, 45.510541667]</td>\n",
       "      <td>Point</td>\n",
       "      <td>10888276</td>\n",
       "      <td>2018-05-17T23:21:15Z</td>\n",
       "      <td>2018-05-17T23:21:41Z</td>\n",
       "      <td>17</td>\n",
       "      <td>4</td>\n",
       "      <td>00:00:26</td>\n",
       "      <td>16.25</td>\n",
       "      <td>45.510542</td>\n",
       "      <td>99</td>\n",
       "      <td>-122.681148</td>\n",
       "      <td>5</td>\n",
       "      <td>2018-05-17</td>\n",
       "      <td>O</td>\n",
       "      <td>W</td>\n",
       "      <td>16.25</td>\n",
       "      <td>2018</td>\n",
       "      <td>Feature</td>\n",
       "    </tr>\n",
       "    <tr>\n",
       "      <th>1</th>\n",
       "      <td>[-122.681085, 45.510551667]</td>\n",
       "      <td>Point</td>\n",
       "      <td>11021831</td>\n",
       "      <td>2018-05-15T22:19:43Z</td>\n",
       "      <td>2018-05-15T22:20:13Z</td>\n",
       "      <td>15</td>\n",
       "      <td>2</td>\n",
       "      <td>00:00:30</td>\n",
       "      <td>15.25</td>\n",
       "      <td>45.510552</td>\n",
       "      <td>54</td>\n",
       "      <td>-122.681085</td>\n",
       "      <td>5</td>\n",
       "      <td>2018-05-15</td>\n",
       "      <td>O</td>\n",
       "      <td>W</td>\n",
       "      <td>15.25</td>\n",
       "      <td>2018</td>\n",
       "      <td>Feature</td>\n",
       "    </tr>\n",
       "    <tr>\n",
       "      <th>2</th>\n",
       "      <td>[-122.6811517, 45.51054]</td>\n",
       "      <td>Point</td>\n",
       "      <td>11121478</td>\n",
       "      <td>2018-05-19T00:30:01Z</td>\n",
       "      <td>2018-05-19T00:30:43Z</td>\n",
       "      <td>18</td>\n",
       "      <td>5</td>\n",
       "      <td>00:00:42</td>\n",
       "      <td>17.50</td>\n",
       "      <td>45.510540</td>\n",
       "      <td>99</td>\n",
       "      <td>-122.681152</td>\n",
       "      <td>5</td>\n",
       "      <td>2018-05-18</td>\n",
       "      <td>O</td>\n",
       "      <td>W</td>\n",
       "      <td>17.50</td>\n",
       "      <td>2018</td>\n",
       "      <td>Feature</td>\n",
       "    </tr>\n",
       "    <tr>\n",
       "      <th>3</th>\n",
       "      <td>[-122.68113, 45.510545]</td>\n",
       "      <td>Point</td>\n",
       "      <td>11125850</td>\n",
       "      <td>2018-05-16T01:58:10Z</td>\n",
       "      <td>2018-05-16T01:58:29Z</td>\n",
       "      <td>15</td>\n",
       "      <td>2</td>\n",
       "      <td>00:00:19</td>\n",
       "      <td>18.75</td>\n",
       "      <td>45.510545</td>\n",
       "      <td>54</td>\n",
       "      <td>-122.681130</td>\n",
       "      <td>5</td>\n",
       "      <td>2018-05-15</td>\n",
       "      <td>O</td>\n",
       "      <td>W</td>\n",
       "      <td>18.75</td>\n",
       "      <td>2018</td>\n",
       "      <td>Feature</td>\n",
       "    </tr>\n",
       "    <tr>\n",
       "      <th>4</th>\n",
       "      <td>[-122.681125, 45.510531667]</td>\n",
       "      <td>Point</td>\n",
       "      <td>11521805</td>\n",
       "      <td>2018-05-23T00:24:29Z</td>\n",
       "      <td>2018-05-23T00:24:43Z</td>\n",
       "      <td>22</td>\n",
       "      <td>2</td>\n",
       "      <td>00:00:14</td>\n",
       "      <td>17.25</td>\n",
       "      <td>45.510532</td>\n",
       "      <td>99</td>\n",
       "      <td>-122.681125</td>\n",
       "      <td>5</td>\n",
       "      <td>2018-05-22</td>\n",
       "      <td>O</td>\n",
       "      <td>W</td>\n",
       "      <td>17.25</td>\n",
       "      <td>2018</td>\n",
       "      <td>Feature</td>\n",
       "    </tr>\n",
       "  </tbody>\n",
       "</table>\n",
       "</div>"
      ],
      "text/plain": [
       "           geometry.coordinates geometry.type        id  \\\n",
       "0  [-122.6811483, 45.510541667]         Point  10888276   \n",
       "1   [-122.681085, 45.510551667]         Point  11021831   \n",
       "2      [-122.6811517, 45.51054]         Point  11121478   \n",
       "3       [-122.68113, 45.510545]         Point  11125850   \n",
       "4   [-122.681125, 45.510531667]         Point  11521805   \n",
       "\n",
       "  properties.act_arr_time properties.act_dep_time  properties.day  \\\n",
       "0    2018-05-17T23:21:15Z    2018-05-17T23:21:41Z              17   \n",
       "1    2018-05-15T22:19:43Z    2018-05-15T22:20:13Z              15   \n",
       "2    2018-05-19T00:30:01Z    2018-05-19T00:30:43Z              18   \n",
       "3    2018-05-16T01:58:10Z    2018-05-16T01:58:29Z              15   \n",
       "4    2018-05-23T00:24:29Z    2018-05-23T00:24:43Z              22   \n",
       "\n",
       "   properties.day_of_week properties.duration  properties.end_quarter_hour  \\\n",
       "0                       4            00:00:26                        16.25   \n",
       "1                       2            00:00:30                        15.25   \n",
       "2                       5            00:00:42                        17.50   \n",
       "3                       2            00:00:19                        18.75   \n",
       "4                       2            00:00:14                        17.25   \n",
       "\n",
       "   properties.latitude  properties.line_id  properties.longitude  \\\n",
       "0            45.510542                  99           -122.681148   \n",
       "1            45.510552                  54           -122.681085   \n",
       "2            45.510540                  99           -122.681152   \n",
       "3            45.510545                  54           -122.681130   \n",
       "4            45.510532                  99           -122.681125   \n",
       "\n",
       "   properties.month properties.opd_date properties.pattern_direction  \\\n",
       "0                 5          2018-05-17                            O   \n",
       "1                 5          2018-05-15                            O   \n",
       "2                 5          2018-05-18                            O   \n",
       "3                 5          2018-05-15                            O   \n",
       "4                 5          2018-05-22                            O   \n",
       "\n",
       "  properties.service_key  properties.start_quarter_hour  properties.year  \\\n",
       "0                      W                          16.25             2018   \n",
       "1                      W                          15.25             2018   \n",
       "2                      W                          17.50             2018   \n",
       "3                      W                          18.75             2018   \n",
       "4                      W                          17.25             2018   \n",
       "\n",
       "      type  \n",
       "0  Feature  \n",
       "1  Feature  \n",
       "2  Feature  \n",
       "3  Feature  \n",
       "4  Feature  "
      ]
     },
     "execution_count": 11,
     "metadata": {},
     "output_type": "execute_result"
    }
   ],
   "source": [
    "harrison_pm.head()"
   ]
  },
  {
   "cell_type": "code",
   "execution_count": 12,
   "metadata": {},
   "outputs": [
    {
     "name": "stdout",
     "output_type": "stream",
     "text": [
      "<class 'pandas.core.frame.DataFrame'>\n",
      "Int64Index: 22 entries, 0 to 21\n",
      "Data columns (total 19 columns):\n",
      "geometry.coordinates             22 non-null object\n",
      "geometry.type                    22 non-null object\n",
      "id                               22 non-null int64\n",
      "properties.act_arr_time          22 non-null object\n",
      "properties.act_dep_time          22 non-null object\n",
      "properties.day                   22 non-null int64\n",
      "properties.day_of_week           22 non-null int64\n",
      "properties.duration              22 non-null timedelta64[ns]\n",
      "properties.end_quarter_hour      22 non-null float64\n",
      "properties.latitude              22 non-null float64\n",
      "properties.line_id               22 non-null int64\n",
      "properties.longitude             22 non-null float64\n",
      "properties.month                 22 non-null int64\n",
      "properties.opd_date              22 non-null object\n",
      "properties.pattern_direction     22 non-null object\n",
      "properties.service_key           22 non-null object\n",
      "properties.start_quarter_hour    22 non-null float64\n",
      "properties.year                  22 non-null int64\n",
      "type                             22 non-null object\n",
      "dtypes: float64(4), int64(6), object(8), timedelta64[ns](1)\n",
      "memory usage: 3.4+ KB\n"
     ]
    }
   ],
   "source": [
    "harrison_pm[harrison_pm['properties.month'] == 5].info()"
   ]
  },
  {
   "cell_type": "code",
   "execution_count": 13,
   "metadata": {},
   "outputs": [
    {
     "name": "stdout",
     "output_type": "stream",
     "text": [
      "<class 'pandas.core.frame.DataFrame'>\n",
      "Int64Index: 9 entries, 22 to 30\n",
      "Data columns (total 19 columns):\n",
      "geometry.coordinates             9 non-null object\n",
      "geometry.type                    9 non-null object\n",
      "id                               9 non-null int64\n",
      "properties.act_arr_time          9 non-null object\n",
      "properties.act_dep_time          9 non-null object\n",
      "properties.day                   9 non-null int64\n",
      "properties.day_of_week           9 non-null int64\n",
      "properties.duration              9 non-null timedelta64[ns]\n",
      "properties.end_quarter_hour      9 non-null float64\n",
      "properties.latitude              9 non-null float64\n",
      "properties.line_id               9 non-null int64\n",
      "properties.longitude             9 non-null float64\n",
      "properties.month                 9 non-null int64\n",
      "properties.opd_date              9 non-null object\n",
      "properties.pattern_direction     9 non-null object\n",
      "properties.service_key           9 non-null object\n",
      "properties.start_quarter_hour    9 non-null float64\n",
      "properties.year                  9 non-null int64\n",
      "type                             9 non-null object\n",
      "dtypes: float64(4), int64(6), object(8), timedelta64[ns](1)\n",
      "memory usage: 1.4+ KB\n"
     ]
    }
   ],
   "source": [
    "harrison_pm[harrison_pm['properties.month'] == 7].info()"
   ]
  },
  {
   "cell_type": "code",
   "execution_count": 14,
   "metadata": {},
   "outputs": [
    {
     "data": {
      "text/plain": [
       "637.0"
      ]
     },
     "execution_count": 14,
     "metadata": {},
     "output_type": "execute_result"
    }
   ],
   "source": [
    "# Get total delay in seconds for 2018\n",
    "harrison_pm[harrison_pm['properties.month'] == 5]['properties.duration'].dt.total_seconds().sum()"
   ]
  },
  {
   "cell_type": "code",
   "execution_count": 15,
   "metadata": {},
   "outputs": [
    {
     "data": {
      "text/plain": [
       "232.0"
      ]
     },
     "execution_count": 15,
     "metadata": {},
     "output_type": "execute_result"
    }
   ],
   "source": [
    "# Get total delay in seconds for 2019\n",
    "harrison_pm[harrison_pm['properties.month'] == 7]['properties.duration'].dt.total_seconds().sum()"
   ]
  }
 ],
 "metadata": {
  "kernelspec": {
   "display_name": "Python 3",
   "language": "python",
   "name": "python3"
  },
  "language_info": {
   "codemirror_mode": {
    "name": "ipython",
    "version": 3
   },
   "file_extension": ".py",
   "mimetype": "text/x-python",
   "name": "python",
   "nbconvert_exporter": "python",
   "pygments_lexer": "ipython3",
   "version": "3.7.3"
  }
 },
 "nbformat": 4,
 "nbformat_minor": 4
}
