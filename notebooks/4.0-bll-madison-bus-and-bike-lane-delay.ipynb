{
 "cells": [
  {
   "cell_type": "code",
   "execution_count": 1,
   "metadata": {},
   "outputs": [],
   "source": [
    "import pandas as pd\n",
    "import requests\n",
    "import numpy as np\n",
    "import time\n",
    "from pandas.io.json import json_normalize \n",
    "pd.set_option('display.max_columns', None)  "
   ]
  },
  {
   "cell_type": "code",
   "execution_count": 2,
   "metadata": {},
   "outputs": [],
   "source": [
    "def get_data_count(url):\n",
    "    data_count = requests.get(url).json()\n",
    "    print(\"count: \" + str(data_count['count']))"
   ]
  },
  {
   "cell_type": "code",
   "execution_count": 3,
   "metadata": {},
   "outputs": [],
   "source": [
    "def get_data(url):\n",
    "    data = requests.get(url).json()['results']\n",
    "    return pd.DataFrame.from_dict(json_normalize(data))"
   ]
  },
  {
   "cell_type": "code",
   "execution_count": 4,
   "metadata": {},
   "outputs": [],
   "source": [
    "def get_data_features(url):\n",
    "    data = requests.get(url).json()['results']\n",
    "    return pd.DataFrame.from_dict(json_normalize(data['features']))"
   ]
  },
  {
   "cell_type": "markdown",
   "metadata": {},
   "source": [
    "#### Implemented weekend of May 17 2019 Eastbound approach to Hawthorne bridge: Bus and bike only lane on SW Madison from SW 4th Ave to SW 1st Ave stops 3639-3635 lines 2, 10, 14, 6, and 30."
   ]
  },
  {
   "cell_type": "markdown",
   "metadata": {},
   "source": [
    "##### Get bus stop coordinates from our tmRouteStops endpoint"
   ]
  },
  {
   "cell_type": "code",
   "execution_count": 5,
   "metadata": {},
   "outputs": [],
   "source": [
    "url = 'http://service.civicpdx.org/transportation2019/v1/toad/tmRouteStops/'"
   ]
  },
  {
   "cell_type": "code",
   "execution_count": 6,
   "metadata": {},
   "outputs": [
    {
     "name": "stdout",
     "output_type": "stream",
     "text": [
      "count: 9236\n"
     ]
    }
   ],
   "source": [
    "get_data_count(url)"
   ]
  },
  {
   "cell_type": "code",
   "execution_count": 7,
   "metadata": {},
   "outputs": [],
   "source": [
    "url = 'http://service.civicpdx.org/transportation2019/v1/toad/tmRouteStops/?limit=9236'"
   ]
  },
  {
   "cell_type": "code",
   "execution_count": 8,
   "metadata": {},
   "outputs": [],
   "source": [
    "tm_route_stops = get_data_features(url)"
   ]
  },
  {
   "cell_type": "code",
   "execution_count": 9,
   "metadata": {},
   "outputs": [
    {
     "data": {
      "text/html": [
       "<div>\n",
       "<style scoped>\n",
       "    .dataframe tbody tr th:only-of-type {\n",
       "        vertical-align: middle;\n",
       "    }\n",
       "\n",
       "    .dataframe tbody tr th {\n",
       "        vertical-align: top;\n",
       "    }\n",
       "\n",
       "    .dataframe thead th {\n",
       "        text-align: right;\n",
       "    }\n",
       "</style>\n",
       "<table border=\"1\" class=\"dataframe\">\n",
       "  <thead>\n",
       "    <tr style=\"text-align: right;\">\n",
       "      <th></th>\n",
       "      <th>geometry.coordinates</th>\n",
       "      <th>geometry.type</th>\n",
       "      <th>id</th>\n",
       "      <th>properties.dir</th>\n",
       "      <th>properties.dir_desc</th>\n",
       "      <th>properties.frequent</th>\n",
       "      <th>properties.jurisdic</th>\n",
       "      <th>properties.rte</th>\n",
       "      <th>properties.rte_desc</th>\n",
       "      <th>properties.stop_id</th>\n",
       "      <th>properties.stop_name</th>\n",
       "      <th>properties.stop_seq</th>\n",
       "      <th>properties.type</th>\n",
       "      <th>properties.zipcode</th>\n",
       "      <th>type</th>\n",
       "    </tr>\n",
       "  </thead>\n",
       "  <tbody>\n",
       "    <tr>\n",
       "      <th>589</th>\n",
       "      <td>[-122.67857274936856, 45.51518918101512]</td>\n",
       "      <td>Point</td>\n",
       "      <td>590</td>\n",
       "      <td>0</td>\n",
       "      <td>To Foster &amp; 94th</td>\n",
       "      <td>True</td>\n",
       "      <td>Portland</td>\n",
       "      <td>14</td>\n",
       "      <td>14-Hawthorne</td>\n",
       "      <td>3639</td>\n",
       "      <td>SW Madison &amp; 4th</td>\n",
       "      <td>400</td>\n",
       "      <td>BUS</td>\n",
       "      <td>97204</td>\n",
       "      <td>Feature</td>\n",
       "    </tr>\n",
       "    <tr>\n",
       "      <th>3764</th>\n",
       "      <td>[-122.67857274936856, 45.51518918101512]</td>\n",
       "      <td>Point</td>\n",
       "      <td>3765</td>\n",
       "      <td>1</td>\n",
       "      <td>To Portland City Center</td>\n",
       "      <td>True</td>\n",
       "      <td>Portland</td>\n",
       "      <td>14</td>\n",
       "      <td>14-Hawthorne</td>\n",
       "      <td>3639</td>\n",
       "      <td>SW Madison &amp; 4th</td>\n",
       "      <td>2600</td>\n",
       "      <td>BUS</td>\n",
       "      <td>97204</td>\n",
       "      <td>Feature</td>\n",
       "    </tr>\n",
       "    <tr>\n",
       "      <th>4560</th>\n",
       "      <td>[-122.67857274936856, 45.51518918101512]</td>\n",
       "      <td>Point</td>\n",
       "      <td>4561</td>\n",
       "      <td>0</td>\n",
       "      <td>To Estacada</td>\n",
       "      <td>False</td>\n",
       "      <td>Portland</td>\n",
       "      <td>30</td>\n",
       "      <td>30-Estacada</td>\n",
       "      <td>3639</td>\n",
       "      <td>SW Madison &amp; 4th</td>\n",
       "      <td>5</td>\n",
       "      <td>BUS</td>\n",
       "      <td>97204</td>\n",
       "      <td>Feature</td>\n",
       "    </tr>\n",
       "    <tr>\n",
       "      <th>5343</th>\n",
       "      <td>[-122.67857274936856, 45.51518918101512]</td>\n",
       "      <td>Point</td>\n",
       "      <td>5344</td>\n",
       "      <td>0</td>\n",
       "      <td>To Foster &amp; 94th</td>\n",
       "      <td>False</td>\n",
       "      <td>Portland</td>\n",
       "      <td>10</td>\n",
       "      <td>10-Harold St</td>\n",
       "      <td>3639</td>\n",
       "      <td>SW Madison &amp; 4th</td>\n",
       "      <td>300</td>\n",
       "      <td>BUS</td>\n",
       "      <td>97204</td>\n",
       "      <td>Feature</td>\n",
       "    </tr>\n",
       "    <tr>\n",
       "      <th>5432</th>\n",
       "      <td>[-122.67857274936856, 45.51518918101512]</td>\n",
       "      <td>Point</td>\n",
       "      <td>5433</td>\n",
       "      <td>1</td>\n",
       "      <td>To Portland City Center</td>\n",
       "      <td>False</td>\n",
       "      <td>Portland</td>\n",
       "      <td>10</td>\n",
       "      <td>10-Harold St</td>\n",
       "      <td>3639</td>\n",
       "      <td>SW Madison &amp; 4th</td>\n",
       "      <td>4050</td>\n",
       "      <td>BUS</td>\n",
       "      <td>97204</td>\n",
       "      <td>Feature</td>\n",
       "    </tr>\n",
       "    <tr>\n",
       "      <th>8785</th>\n",
       "      <td>[-122.67857274936856, 45.51518918101512]</td>\n",
       "      <td>Point</td>\n",
       "      <td>8786</td>\n",
       "      <td>0</td>\n",
       "      <td>To Gresham Transit Center</td>\n",
       "      <td>True</td>\n",
       "      <td>Portland</td>\n",
       "      <td>2</td>\n",
       "      <td>2-Division</td>\n",
       "      <td>3639</td>\n",
       "      <td>SW Madison &amp; 4th</td>\n",
       "      <td>300</td>\n",
       "      <td>BUS</td>\n",
       "      <td>97204</td>\n",
       "      <td>Feature</td>\n",
       "    </tr>\n",
       "  </tbody>\n",
       "</table>\n",
       "</div>"
      ],
      "text/plain": [
       "                          geometry.coordinates geometry.type    id  \\\n",
       "589   [-122.67857274936856, 45.51518918101512]         Point   590   \n",
       "3764  [-122.67857274936856, 45.51518918101512]         Point  3765   \n",
       "4560  [-122.67857274936856, 45.51518918101512]         Point  4561   \n",
       "5343  [-122.67857274936856, 45.51518918101512]         Point  5344   \n",
       "5432  [-122.67857274936856, 45.51518918101512]         Point  5433   \n",
       "8785  [-122.67857274936856, 45.51518918101512]         Point  8786   \n",
       "\n",
       "      properties.dir        properties.dir_desc properties.frequent  \\\n",
       "589                0           To Foster & 94th                True   \n",
       "3764               1    To Portland City Center                True   \n",
       "4560               0                To Estacada               False   \n",
       "5343               0           To Foster & 94th               False   \n",
       "5432               1    To Portland City Center               False   \n",
       "8785               0  To Gresham Transit Center                True   \n",
       "\n",
       "     properties.jurisdic  properties.rte properties.rte_desc  \\\n",
       "589             Portland              14        14-Hawthorne   \n",
       "3764            Portland              14        14-Hawthorne   \n",
       "4560            Portland              30         30-Estacada   \n",
       "5343            Portland              10        10-Harold St   \n",
       "5432            Portland              10        10-Harold St   \n",
       "8785            Portland               2          2-Division   \n",
       "\n",
       "      properties.stop_id properties.stop_name  properties.stop_seq  \\\n",
       "589                 3639     SW Madison & 4th                  400   \n",
       "3764                3639     SW Madison & 4th                 2600   \n",
       "4560                3639     SW Madison & 4th                    5   \n",
       "5343                3639     SW Madison & 4th                  300   \n",
       "5432                3639     SW Madison & 4th                 4050   \n",
       "8785                3639     SW Madison & 4th                  300   \n",
       "\n",
       "     properties.type properties.zipcode     type  \n",
       "589              BUS              97204  Feature  \n",
       "3764             BUS              97204  Feature  \n",
       "4560             BUS              97204  Feature  \n",
       "5343             BUS              97204  Feature  \n",
       "5432             BUS              97204  Feature  \n",
       "8785             BUS              97204  Feature  "
      ]
     },
     "execution_count": 9,
     "metadata": {},
     "output_type": "execute_result"
    }
   ],
   "source": [
    "tm_route_stops[tm_route_stops['properties.stop_id'] == 3639]  "
   ]
  },
  {
   "cell_type": "code",
   "execution_count": 10,
   "metadata": {},
   "outputs": [
    {
     "data": {
      "text/html": [
       "<div>\n",
       "<style scoped>\n",
       "    .dataframe tbody tr th:only-of-type {\n",
       "        vertical-align: middle;\n",
       "    }\n",
       "\n",
       "    .dataframe tbody tr th {\n",
       "        vertical-align: top;\n",
       "    }\n",
       "\n",
       "    .dataframe thead th {\n",
       "        text-align: right;\n",
       "    }\n",
       "</style>\n",
       "<table border=\"1\" class=\"dataframe\">\n",
       "  <thead>\n",
       "    <tr style=\"text-align: right;\">\n",
       "      <th></th>\n",
       "      <th>geometry.coordinates</th>\n",
       "      <th>geometry.type</th>\n",
       "      <th>id</th>\n",
       "      <th>properties.dir</th>\n",
       "      <th>properties.dir_desc</th>\n",
       "      <th>properties.frequent</th>\n",
       "      <th>properties.jurisdic</th>\n",
       "      <th>properties.rte</th>\n",
       "      <th>properties.rte_desc</th>\n",
       "      <th>properties.stop_id</th>\n",
       "      <th>properties.stop_name</th>\n",
       "      <th>properties.stop_seq</th>\n",
       "      <th>properties.type</th>\n",
       "      <th>properties.zipcode</th>\n",
       "      <th>type</th>\n",
       "    </tr>\n",
       "  </thead>\n",
       "  <tbody>\n",
       "    <tr>\n",
       "      <th>590</th>\n",
       "      <td>[-122.67583887604277, 45.514455223290646]</td>\n",
       "      <td>Point</td>\n",
       "      <td>591</td>\n",
       "      <td>0</td>\n",
       "      <td>To Foster &amp; 94th</td>\n",
       "      <td>True</td>\n",
       "      <td>Portland</td>\n",
       "      <td>14</td>\n",
       "      <td>14-Hawthorne</td>\n",
       "      <td>3635</td>\n",
       "      <td>SW Madison &amp; 1st</td>\n",
       "      <td>450</td>\n",
       "      <td>BUS</td>\n",
       "      <td>97204</td>\n",
       "      <td>Feature</td>\n",
       "    </tr>\n",
       "    <tr>\n",
       "      <th>4561</th>\n",
       "      <td>[-122.67583887604277, 45.514455223290646]</td>\n",
       "      <td>Point</td>\n",
       "      <td>4562</td>\n",
       "      <td>0</td>\n",
       "      <td>To Estacada</td>\n",
       "      <td>False</td>\n",
       "      <td>Portland</td>\n",
       "      <td>30</td>\n",
       "      <td>30-Estacada</td>\n",
       "      <td>3635</td>\n",
       "      <td>SW Madison &amp; 1st</td>\n",
       "      <td>6</td>\n",
       "      <td>BUS</td>\n",
       "      <td>97204</td>\n",
       "      <td>Feature</td>\n",
       "    </tr>\n",
       "    <tr>\n",
       "      <th>5276</th>\n",
       "      <td>[-122.67583887604277, 45.514455223290646]</td>\n",
       "      <td>Point</td>\n",
       "      <td>5276</td>\n",
       "      <td>0</td>\n",
       "      <td>To Foster &amp; 94th</td>\n",
       "      <td>False</td>\n",
       "      <td>Portland</td>\n",
       "      <td>10</td>\n",
       "      <td>10-Harold St</td>\n",
       "      <td>3635</td>\n",
       "      <td>SW Madison &amp; 1st</td>\n",
       "      <td>350</td>\n",
       "      <td>BUS</td>\n",
       "      <td>97204</td>\n",
       "      <td>Feature</td>\n",
       "    </tr>\n",
       "    <tr>\n",
       "      <th>7830</th>\n",
       "      <td>[-122.67583887604277, 45.514455223290646]</td>\n",
       "      <td>Point</td>\n",
       "      <td>7829</td>\n",
       "      <td>0</td>\n",
       "      <td>To Jantzen Beach</td>\n",
       "      <td>True</td>\n",
       "      <td>Portland</td>\n",
       "      <td>6</td>\n",
       "      <td>6-Martin Luther King Jr Blvd</td>\n",
       "      <td>3635</td>\n",
       "      <td>SW Madison &amp; 1st</td>\n",
       "      <td>350</td>\n",
       "      <td>BUS</td>\n",
       "      <td>97204</td>\n",
       "      <td>Feature</td>\n",
       "    </tr>\n",
       "    <tr>\n",
       "      <th>8786</th>\n",
       "      <td>[-122.67583887604277, 45.514455223290646]</td>\n",
       "      <td>Point</td>\n",
       "      <td>8787</td>\n",
       "      <td>0</td>\n",
       "      <td>To Gresham Transit Center</td>\n",
       "      <td>True</td>\n",
       "      <td>Portland</td>\n",
       "      <td>2</td>\n",
       "      <td>2-Division</td>\n",
       "      <td>3635</td>\n",
       "      <td>SW Madison &amp; 1st</td>\n",
       "      <td>350</td>\n",
       "      <td>BUS</td>\n",
       "      <td>97204</td>\n",
       "      <td>Feature</td>\n",
       "    </tr>\n",
       "  </tbody>\n",
       "</table>\n",
       "</div>"
      ],
      "text/plain": [
       "                           geometry.coordinates geometry.type    id  \\\n",
       "590   [-122.67583887604277, 45.514455223290646]         Point   591   \n",
       "4561  [-122.67583887604277, 45.514455223290646]         Point  4562   \n",
       "5276  [-122.67583887604277, 45.514455223290646]         Point  5276   \n",
       "7830  [-122.67583887604277, 45.514455223290646]         Point  7829   \n",
       "8786  [-122.67583887604277, 45.514455223290646]         Point  8787   \n",
       "\n",
       "      properties.dir        properties.dir_desc properties.frequent  \\\n",
       "590                0           To Foster & 94th                True   \n",
       "4561               0                To Estacada               False   \n",
       "5276               0           To Foster & 94th               False   \n",
       "7830               0           To Jantzen Beach                True   \n",
       "8786               0  To Gresham Transit Center                True   \n",
       "\n",
       "     properties.jurisdic  properties.rte           properties.rte_desc  \\\n",
       "590             Portland              14                  14-Hawthorne   \n",
       "4561            Portland              30                   30-Estacada   \n",
       "5276            Portland              10                  10-Harold St   \n",
       "7830            Portland               6  6-Martin Luther King Jr Blvd   \n",
       "8786            Portland               2                    2-Division   \n",
       "\n",
       "      properties.stop_id properties.stop_name  properties.stop_seq  \\\n",
       "590                 3635     SW Madison & 1st                  450   \n",
       "4561                3635     SW Madison & 1st                    6   \n",
       "5276                3635     SW Madison & 1st                  350   \n",
       "7830                3635     SW Madison & 1st                  350   \n",
       "8786                3635     SW Madison & 1st                  350   \n",
       "\n",
       "     properties.type properties.zipcode     type  \n",
       "590              BUS              97204  Feature  \n",
       "4561             BUS              97204  Feature  \n",
       "5276             BUS              97204  Feature  \n",
       "7830             BUS              97204  Feature  \n",
       "8786             BUS              97204  Feature  "
      ]
     },
     "execution_count": 10,
     "metadata": {},
     "output_type": "execute_result"
    }
   ],
   "source": [
    "tm_route_stops[tm_route_stops['properties.stop_id'] == 3635]  "
   ]
  },
  {
   "cell_type": "markdown",
   "metadata": {},
   "source": [
    "#### AM Rush Disturbance Delay"
   ]
  },
  {
   "cell_type": "code",
   "execution_count": 50,
   "metadata": {},
   "outputs": [],
   "source": [
    "url = 'http://service.civicpdx.org/transportation2019/v1/toad/disturbanceStops/?months=7&directions=O&time_range=6.5,9&years=2019&lines=10,14,6,30&service_key=W'"
   ]
  },
  {
   "cell_type": "code",
   "execution_count": 51,
   "metadata": {},
   "outputs": [
    {
     "name": "stdout",
     "output_type": "stream",
     "text": [
      "count: 5777\n"
     ]
    }
   ],
   "source": [
    "get_data_count(url)"
   ]
  },
  {
   "cell_type": "code",
   "execution_count": 52,
   "metadata": {},
   "outputs": [],
   "source": [
    "url = 'http://service.civicpdx.org/transportation2019/v1/toad/disturbanceStops/?limit=5777&months=7&directions=O&time_range=16,17&years=2019&lines=10,14,6,30&service_key=W'"
   ]
  },
  {
   "cell_type": "code",
   "execution_count": 53,
   "metadata": {},
   "outputs": [
    {
     "name": "stdout",
     "output_type": "stream",
     "text": [
      "<class 'pandas.core.frame.DataFrame'>\n",
      "RangeIndex: 5777 entries, 0 to 5776\n",
      "Data columns (total 19 columns):\n",
      "geometry.coordinates             5777 non-null object\n",
      "geometry.type                    5777 non-null object\n",
      "id                               5777 non-null int64\n",
      "properties.act_arr_time          5777 non-null object\n",
      "properties.act_dep_time          5777 non-null object\n",
      "properties.day                   5777 non-null int64\n",
      "properties.day_of_week           5777 non-null int64\n",
      "properties.duration              5777 non-null object\n",
      "properties.end_quarter_hour      5777 non-null float64\n",
      "properties.latitude              5777 non-null float64\n",
      "properties.line_id               5777 non-null int64\n",
      "properties.longitude             5777 non-null float64\n",
      "properties.month                 5777 non-null int64\n",
      "properties.opd_date              5777 non-null object\n",
      "properties.pattern_direction     5777 non-null object\n",
      "properties.service_key           5777 non-null object\n",
      "properties.start_quarter_hour    5777 non-null float64\n",
      "properties.year                  5777 non-null int64\n",
      "type                             5777 non-null object\n",
      "dtypes: float64(4), int64(6), object(9)\n",
      "memory usage: 857.6+ KB\n"
     ]
    }
   ],
   "source": [
    "sw_madison_2019 = get_data_features(url)\n",
    "sw_madison_2019.info()"
   ]
  },
  {
   "cell_type": "code",
   "execution_count": 54,
   "metadata": {},
   "outputs": [],
   "source": [
    "url = 'http://service.civicpdx.org/transportation2019/v1/toad/disturbanceStops/?months=7&directions=O&time_range=6.5,9&years=2018&lines=10,14,6,30&service_key=W'"
   ]
  },
  {
   "cell_type": "code",
   "execution_count": 55,
   "metadata": {},
   "outputs": [
    {
     "name": "stdout",
     "output_type": "stream",
     "text": [
      "count: 5841\n"
     ]
    }
   ],
   "source": [
    "get_data_count(url)"
   ]
  },
  {
   "cell_type": "code",
   "execution_count": 56,
   "metadata": {},
   "outputs": [],
   "source": [
    "url = 'http://service.civicpdx.org/transportation2019/v1/toad/disturbanceStops/?limit=5841&months=7&directions=O&time_range=16,17&years=2018&lines=10,14,6,30&service_key=W'"
   ]
  },
  {
   "cell_type": "code",
   "execution_count": 57,
   "metadata": {},
   "outputs": [],
   "source": [
    "sw_madison_2018 = get_data_features(url)"
   ]
  },
  {
   "cell_type": "code",
   "execution_count": 58,
   "metadata": {},
   "outputs": [
    {
     "name": "stdout",
     "output_type": "stream",
     "text": [
      "<class 'pandas.core.frame.DataFrame'>\n",
      "RangeIndex: 5841 entries, 0 to 5840\n",
      "Data columns (total 19 columns):\n",
      "geometry.coordinates             5841 non-null object\n",
      "geometry.type                    5841 non-null object\n",
      "id                               5841 non-null int64\n",
      "properties.act_arr_time          5841 non-null object\n",
      "properties.act_dep_time          5841 non-null object\n",
      "properties.day                   5841 non-null int64\n",
      "properties.day_of_week           5841 non-null int64\n",
      "properties.duration              5841 non-null object\n",
      "properties.end_quarter_hour      5841 non-null float64\n",
      "properties.latitude              5841 non-null float64\n",
      "properties.line_id               5841 non-null int64\n",
      "properties.longitude             5841 non-null float64\n",
      "properties.month                 5841 non-null int64\n",
      "properties.opd_date              5841 non-null object\n",
      "properties.pattern_direction     5841 non-null object\n",
      "properties.service_key           5841 non-null object\n",
      "properties.start_quarter_hour    5841 non-null float64\n",
      "properties.year                  5841 non-null int64\n",
      "type                             5841 non-null object\n",
      "dtypes: float64(4), int64(6), object(9)\n",
      "memory usage: 867.1+ KB\n"
     ]
    }
   ],
   "source": [
    "sw_madison_2018.info()"
   ]
  },
  {
   "cell_type": "code",
   "execution_count": 61,
   "metadata": {},
   "outputs": [
    {
     "name": "stdout",
     "output_type": "stream",
     "text": [
      "<class 'pandas.core.frame.DataFrame'>\n",
      "Int64Index: 274 entries, 2 to 5824\n",
      "Data columns (total 19 columns):\n",
      "geometry.coordinates             274 non-null object\n",
      "geometry.type                    274 non-null object\n",
      "id                               274 non-null int64\n",
      "properties.act_arr_time          274 non-null object\n",
      "properties.act_dep_time          274 non-null object\n",
      "properties.day                   274 non-null int64\n",
      "properties.day_of_week           274 non-null int64\n",
      "properties.duration              274 non-null object\n",
      "properties.end_quarter_hour      274 non-null float64\n",
      "properties.latitude              274 non-null float64\n",
      "properties.line_id               274 non-null int64\n",
      "properties.longitude             274 non-null float64\n",
      "properties.month                 274 non-null int64\n",
      "properties.opd_date              274 non-null object\n",
      "properties.pattern_direction     274 non-null object\n",
      "properties.service_key           274 non-null object\n",
      "properties.start_quarter_hour    274 non-null float64\n",
      "properties.year                  274 non-null int64\n",
      "type                             274 non-null object\n",
      "dtypes: float64(4), int64(6), object(9)\n",
      "memory usage: 42.8+ KB\n"
     ]
    }
   ],
   "source": [
    "disturbance_stops_2018 = sw_madison_2018[(sw_madison_2018['properties.longitude'] <= -122.67583887604277) & (sw_madison_2018['properties.longitude'] >= -122.67857274936856 )]\n",
    "disturbance_stops_2018.info()"
   ]
  },
  {
   "cell_type": "code",
   "execution_count": 62,
   "metadata": {},
   "outputs": [
    {
     "name": "stdout",
     "output_type": "stream",
     "text": [
      "<class 'pandas.core.frame.DataFrame'>\n",
      "Int64Index: 208 entries, 43 to 5766\n",
      "Data columns (total 19 columns):\n",
      "geometry.coordinates             208 non-null object\n",
      "geometry.type                    208 non-null object\n",
      "id                               208 non-null int64\n",
      "properties.act_arr_time          208 non-null object\n",
      "properties.act_dep_time          208 non-null object\n",
      "properties.day                   208 non-null int64\n",
      "properties.day_of_week           208 non-null int64\n",
      "properties.duration              208 non-null object\n",
      "properties.end_quarter_hour      208 non-null float64\n",
      "properties.latitude              208 non-null float64\n",
      "properties.line_id               208 non-null int64\n",
      "properties.longitude             208 non-null float64\n",
      "properties.month                 208 non-null int64\n",
      "properties.opd_date              208 non-null object\n",
      "properties.pattern_direction     208 non-null object\n",
      "properties.service_key           208 non-null object\n",
      "properties.start_quarter_hour    208 non-null float64\n",
      "properties.year                  208 non-null int64\n",
      "type                             208 non-null object\n",
      "dtypes: float64(4), int64(6), object(9)\n",
      "memory usage: 32.5+ KB\n"
     ]
    }
   ],
   "source": [
    "disturbance_stops_2019 = sw_madison_2019[(sw_madison_2019['properties.longitude'] <= -122.67583887604277) & (sw_madison_2019['properties.longitude'] >= -122.67857274936856 )]\n",
    "disturbance_stops_2019.info()"
   ]
  },
  {
   "cell_type": "code",
   "execution_count": 71,
   "metadata": {},
   "outputs": [
    {
     "name": "stderr",
     "output_type": "stream",
     "text": [
      "C:\\Users\\BenLawrence\\Anaconda3\\lib\\site-packages\\ipykernel_launcher.py:2: SettingWithCopyWarning: \n",
      "A value is trying to be set on a copy of a slice from a DataFrame.\n",
      "Try using .loc[row_indexer,col_indexer] = value instead\n",
      "\n",
      "See the caveats in the documentation: http://pandas.pydata.org/pandas-docs/stable/indexing.html#indexing-view-versus-copy\n",
      "  \n"
     ]
    }
   ],
   "source": [
    "# Convert duration to seconds\n",
    "disturbance_stops_2018['properties.duration'] = pd.to_timedelta(disturbance_stops_2018['properties.duration'], unit='s')"
   ]
  },
  {
   "cell_type": "code",
   "execution_count": 72,
   "metadata": {},
   "outputs": [
    {
     "data": {
      "text/plain": [
       "6592.0"
      ]
     },
     "execution_count": 72,
     "metadata": {},
     "output_type": "execute_result"
    }
   ],
   "source": [
    "# Get total delay in seconds throughout the corridor for 2018\n",
    "disturbance_stops_2018['properties.duration'].dt.total_seconds().sum()"
   ]
  },
  {
   "cell_type": "code",
   "execution_count": 73,
   "metadata": {},
   "outputs": [
    {
     "name": "stderr",
     "output_type": "stream",
     "text": [
      "C:\\Users\\BenLawrence\\Anaconda3\\lib\\site-packages\\ipykernel_launcher.py:2: SettingWithCopyWarning: \n",
      "A value is trying to be set on a copy of a slice from a DataFrame.\n",
      "Try using .loc[row_indexer,col_indexer] = value instead\n",
      "\n",
      "See the caveats in the documentation: http://pandas.pydata.org/pandas-docs/stable/indexing.html#indexing-view-versus-copy\n",
      "  \n"
     ]
    }
   ],
   "source": [
    "# Convert duration to seconds\n",
    "disturbance_stops_2019['properties.duration'] = pd.to_timedelta(disturbance_stops_2019['properties.duration'], unit='s')"
   ]
  },
  {
   "cell_type": "code",
   "execution_count": 74,
   "metadata": {},
   "outputs": [
    {
     "data": {
      "text/plain": [
       "6806.0"
      ]
     },
     "execution_count": 74,
     "metadata": {},
     "output_type": "execute_result"
    }
   ],
   "source": [
    "# Get total delay in seconds throughout the corridor for 2019\n",
    "disturbance_stops_2019['properties.duration'].dt.total_seconds().sum()"
   ]
  },
  {
   "cell_type": "markdown",
   "metadata": {},
   "source": [
    "#### PM Rush Disturbance Delay"
   ]
  },
  {
   "cell_type": "code",
   "execution_count": 79,
   "metadata": {},
   "outputs": [],
   "source": [
    "url = 'http://service.civicpdx.org/transportation2019/v1/toad/disturbanceStops/?months=7&directions=O&time_range=14.5,18.75&years=2019&lines=10,14,6,30&service_key=W'"
   ]
  },
  {
   "cell_type": "code",
   "execution_count": 80,
   "metadata": {},
   "outputs": [
    {
     "name": "stdout",
     "output_type": "stream",
     "text": [
      "count: 19994\n"
     ]
    }
   ],
   "source": [
    "get_data_count(url)"
   ]
  },
  {
   "cell_type": "code",
   "execution_count": 82,
   "metadata": {},
   "outputs": [],
   "source": [
    "url = 'http://service.civicpdx.org/transportation2019/v1/toad/disturbanceStops/?limit=19994&months=7&directions=O&time_range=14.5,18.75&years=2019&lines=10,14,6,30&service_key=W'"
   ]
  },
  {
   "cell_type": "code",
   "execution_count": 83,
   "metadata": {},
   "outputs": [
    {
     "name": "stdout",
     "output_type": "stream",
     "text": [
      "<class 'pandas.core.frame.DataFrame'>\n",
      "RangeIndex: 19994 entries, 0 to 19993\n",
      "Data columns (total 19 columns):\n",
      "geometry.coordinates             19994 non-null object\n",
      "geometry.type                    19994 non-null object\n",
      "id                               19994 non-null int64\n",
      "properties.act_arr_time          19994 non-null object\n",
      "properties.act_dep_time          19994 non-null object\n",
      "properties.day                   19994 non-null int64\n",
      "properties.day_of_week           19994 non-null int64\n",
      "properties.duration              19994 non-null object\n",
      "properties.end_quarter_hour      19994 non-null float64\n",
      "properties.latitude              19994 non-null float64\n",
      "properties.line_id               19994 non-null int64\n",
      "properties.longitude             19994 non-null float64\n",
      "properties.month                 19994 non-null int64\n",
      "properties.opd_date              19994 non-null object\n",
      "properties.pattern_direction     19994 non-null object\n",
      "properties.service_key           19994 non-null object\n",
      "properties.start_quarter_hour    19994 non-null float64\n",
      "properties.year                  19994 non-null int64\n",
      "type                             19994 non-null object\n",
      "dtypes: float64(4), int64(6), object(9)\n",
      "memory usage: 2.9+ MB\n"
     ]
    }
   ],
   "source": [
    "sw_madison_2019 = get_data_features(url)\n",
    "sw_madison_2019.info()"
   ]
  },
  {
   "cell_type": "code",
   "execution_count": 84,
   "metadata": {},
   "outputs": [],
   "source": [
    "url = 'http://service.civicpdx.org/transportation2019/v1/toad/disturbanceStops/?months=7&directions=O&time_range=14.5,18.75&years=2018&lines=10,14,6,30&service_key=W'"
   ]
  },
  {
   "cell_type": "code",
   "execution_count": 85,
   "metadata": {},
   "outputs": [
    {
     "name": "stdout",
     "output_type": "stream",
     "text": [
      "count: 19853\n"
     ]
    }
   ],
   "source": [
    "get_data_count(url)"
   ]
  },
  {
   "cell_type": "code",
   "execution_count": 87,
   "metadata": {},
   "outputs": [],
   "source": [
    "url = 'http://service.civicpdx.org/transportation2019/v1/toad/disturbanceStops/?limit=19853&months=7&directions=O&time_range=14.5,18.75&years=2018&lines=10,14,6,30&service_key=W'"
   ]
  },
  {
   "cell_type": "code",
   "execution_count": 88,
   "metadata": {},
   "outputs": [],
   "source": [
    "sw_madison_2018 = get_data_features(url)"
   ]
  },
  {
   "cell_type": "code",
   "execution_count": 89,
   "metadata": {},
   "outputs": [
    {
     "name": "stdout",
     "output_type": "stream",
     "text": [
      "<class 'pandas.core.frame.DataFrame'>\n",
      "RangeIndex: 19853 entries, 0 to 19852\n",
      "Data columns (total 19 columns):\n",
      "geometry.coordinates             19853 non-null object\n",
      "geometry.type                    19853 non-null object\n",
      "id                               19853 non-null int64\n",
      "properties.act_arr_time          19853 non-null object\n",
      "properties.act_dep_time          19853 non-null object\n",
      "properties.day                   19853 non-null int64\n",
      "properties.day_of_week           19853 non-null int64\n",
      "properties.duration              19853 non-null object\n",
      "properties.end_quarter_hour      19853 non-null float64\n",
      "properties.latitude              19853 non-null float64\n",
      "properties.line_id               19853 non-null int64\n",
      "properties.longitude             19853 non-null float64\n",
      "properties.month                 19853 non-null int64\n",
      "properties.opd_date              19853 non-null object\n",
      "properties.pattern_direction     19853 non-null object\n",
      "properties.service_key           19853 non-null object\n",
      "properties.start_quarter_hour    19853 non-null float64\n",
      "properties.year                  19853 non-null int64\n",
      "type                             19853 non-null object\n",
      "dtypes: float64(4), int64(6), object(9)\n",
      "memory usage: 2.9+ MB\n"
     ]
    }
   ],
   "source": [
    "sw_madison_2018.info()"
   ]
  },
  {
   "cell_type": "code",
   "execution_count": 90,
   "metadata": {},
   "outputs": [
    {
     "name": "stdout",
     "output_type": "stream",
     "text": [
      "<class 'pandas.core.frame.DataFrame'>\n",
      "Int64Index: 1060 entries, 0 to 19820\n",
      "Data columns (total 19 columns):\n",
      "geometry.coordinates             1060 non-null object\n",
      "geometry.type                    1060 non-null object\n",
      "id                               1060 non-null int64\n",
      "properties.act_arr_time          1060 non-null object\n",
      "properties.act_dep_time          1060 non-null object\n",
      "properties.day                   1060 non-null int64\n",
      "properties.day_of_week           1060 non-null int64\n",
      "properties.duration              1060 non-null object\n",
      "properties.end_quarter_hour      1060 non-null float64\n",
      "properties.latitude              1060 non-null float64\n",
      "properties.line_id               1060 non-null int64\n",
      "properties.longitude             1060 non-null float64\n",
      "properties.month                 1060 non-null int64\n",
      "properties.opd_date              1060 non-null object\n",
      "properties.pattern_direction     1060 non-null object\n",
      "properties.service_key           1060 non-null object\n",
      "properties.start_quarter_hour    1060 non-null float64\n",
      "properties.year                  1060 non-null int64\n",
      "type                             1060 non-null object\n",
      "dtypes: float64(4), int64(6), object(9)\n",
      "memory usage: 165.6+ KB\n"
     ]
    }
   ],
   "source": [
    "disturbance_stops_2018 = sw_madison_2018[(sw_madison_2018['properties.longitude'] <= -122.67583887604277) & (sw_madison_2018['properties.longitude'] >= -122.67857274936856 )]\n",
    "disturbance_stops_2018.info()"
   ]
  },
  {
   "cell_type": "code",
   "execution_count": 91,
   "metadata": {},
   "outputs": [
    {
     "name": "stdout",
     "output_type": "stream",
     "text": [
      "<class 'pandas.core.frame.DataFrame'>\n",
      "Int64Index: 806 entries, 36 to 19983\n",
      "Data columns (total 19 columns):\n",
      "geometry.coordinates             806 non-null object\n",
      "geometry.type                    806 non-null object\n",
      "id                               806 non-null int64\n",
      "properties.act_arr_time          806 non-null object\n",
      "properties.act_dep_time          806 non-null object\n",
      "properties.day                   806 non-null int64\n",
      "properties.day_of_week           806 non-null int64\n",
      "properties.duration              806 non-null object\n",
      "properties.end_quarter_hour      806 non-null float64\n",
      "properties.latitude              806 non-null float64\n",
      "properties.line_id               806 non-null int64\n",
      "properties.longitude             806 non-null float64\n",
      "properties.month                 806 non-null int64\n",
      "properties.opd_date              806 non-null object\n",
      "properties.pattern_direction     806 non-null object\n",
      "properties.service_key           806 non-null object\n",
      "properties.start_quarter_hour    806 non-null float64\n",
      "properties.year                  806 non-null int64\n",
      "type                             806 non-null object\n",
      "dtypes: float64(4), int64(6), object(9)\n",
      "memory usage: 125.9+ KB\n"
     ]
    }
   ],
   "source": [
    "disturbance_stops_2019 = sw_madison_2019[(sw_madison_2019['properties.longitude'] <= -122.67583887604277) & (sw_madison_2019['properties.longitude'] >= -122.67857274936856 )]\n",
    "disturbance_stops_2019.info()"
   ]
  },
  {
   "cell_type": "code",
   "execution_count": 92,
   "metadata": {},
   "outputs": [
    {
     "name": "stderr",
     "output_type": "stream",
     "text": [
      "C:\\Users\\BenLawrence\\Anaconda3\\lib\\site-packages\\ipykernel_launcher.py:2: SettingWithCopyWarning: \n",
      "A value is trying to be set on a copy of a slice from a DataFrame.\n",
      "Try using .loc[row_indexer,col_indexer] = value instead\n",
      "\n",
      "See the caveats in the documentation: http://pandas.pydata.org/pandas-docs/stable/indexing.html#indexing-view-versus-copy\n",
      "  \n"
     ]
    }
   ],
   "source": [
    "# Convert duration to seconds\n",
    "disturbance_stops_2018['properties.duration'] = pd.to_timedelta(disturbance_stops_2018['properties.duration'], unit='s')"
   ]
  },
  {
   "cell_type": "code",
   "execution_count": 93,
   "metadata": {},
   "outputs": [
    {
     "data": {
      "text/plain": [
       "28549.0"
      ]
     },
     "execution_count": 93,
     "metadata": {},
     "output_type": "execute_result"
    }
   ],
   "source": [
    "# Get total delay in seconds throughout the corridor for 2018\n",
    "disturbance_stops_2018['properties.duration'].dt.total_seconds().sum()"
   ]
  },
  {
   "cell_type": "code",
   "execution_count": 94,
   "metadata": {},
   "outputs": [
    {
     "name": "stderr",
     "output_type": "stream",
     "text": [
      "C:\\Users\\BenLawrence\\Anaconda3\\lib\\site-packages\\ipykernel_launcher.py:2: SettingWithCopyWarning: \n",
      "A value is trying to be set on a copy of a slice from a DataFrame.\n",
      "Try using .loc[row_indexer,col_indexer] = value instead\n",
      "\n",
      "See the caveats in the documentation: http://pandas.pydata.org/pandas-docs/stable/indexing.html#indexing-view-versus-copy\n",
      "  \n"
     ]
    }
   ],
   "source": [
    "# Convert duration to seconds\n",
    "disturbance_stops_2019['properties.duration'] = pd.to_timedelta(disturbance_stops_2019['properties.duration'], unit='s')"
   ]
  },
  {
   "cell_type": "code",
   "execution_count": 95,
   "metadata": {},
   "outputs": [
    {
     "data": {
      "text/plain": [
       "27441.0"
      ]
     },
     "execution_count": 95,
     "metadata": {},
     "output_type": "execute_result"
    }
   ],
   "source": [
    "# Get total delay in seconds throughout the corridor for 2019\n",
    "disturbance_stops_2019['properties.duration'].dt.total_seconds().sum()"
   ]
  }
 ],
 "metadata": {
  "kernelspec": {
   "display_name": "Python 3",
   "language": "python",
   "name": "python3"
  },
  "language_info": {
   "codemirror_mode": {
    "name": "ipython",
    "version": 3
   },
   "file_extension": ".py",
   "mimetype": "text/x-python",
   "name": "python",
   "nbconvert_exporter": "python",
   "pygments_lexer": "ipython3",
   "version": "3.7.3"
  }
 },
 "nbformat": 4,
 "nbformat_minor": 2
}
