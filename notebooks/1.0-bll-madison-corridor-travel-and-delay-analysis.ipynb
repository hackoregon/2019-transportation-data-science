{
 "cells": [
  {
   "cell_type": "code",
   "execution_count": 1,
   "metadata": {},
   "outputs": [],
   "source": [
    "import pandas as pd\n",
    "%matplotlib notebook\n",
    "\n",
    "# Follow Jeff's instruction from: https://github.com/hackoregon/2019-transportation-data-science/blob/master/notebooks/5.0-jab-stop-to-stop-analysis.ipynb \n",
    "\n",
    "# To use this notebook, make sure to copy the two .parquest.gzip files from Google Drive \n",
    "# (Team Transpo / Datasets & Notebooks / Toad (Congestion) / toad_stop_to_stop_durations )\n",
    "# and put them in the <data science repo> / data / interim / TOAD folder. \n",
    "# (you will need to make the TOAD folder if it doesn't exist.)\n",
    "\n",
    "# Or change the path to point to them however you want :)"
   ]
  },
  {
   "cell_type": "code",
   "execution_count": 2,
   "metadata": {},
   "outputs": [],
   "source": [
    "stops_df = pd.read_parquet('../data/interim/TOAD/stop_to_stop.parquet.gzip')"
   ]
  },
  {
   "cell_type": "code",
   "execution_count": 3,
   "metadata": {},
   "outputs": [
    {
     "name": "stdout",
     "output_type": "stream",
     "text": [
      "<class 'pandas.core.frame.DataFrame'>\n",
      "Int64Index: 53847000 entries, 1 to 54694745\n",
      "Data columns (total 9 columns):\n",
      "event_no_trip             int64\n",
      "pattern_direction         object\n",
      "line_id                   uint16\n",
      "stop_type                 uint8\n",
      "stop_id                   uint16\n",
      "act_arr_time              datetime64[ns, UTC]\n",
      "prev_stop_id              uint16\n",
      "prev_stop_act_arr_time    datetime64[ns, UTC]\n",
      "elapsed_time_seconds      uint16\n",
      "dtypes: datetime64[ns, UTC](2), int64(1), object(1), uint16(4), uint8(1)\n",
      "memory usage: 2.5+ GB\n"
     ]
    }
   ],
   "source": [
    "stops_df.info()"
   ]
  },
  {
   "cell_type": "code",
   "execution_count": 4,
   "metadata": {},
   "outputs": [],
   "source": [
    "# Filter by only lines 10 and 14.  We only need stops 3641 and 3633 because stop 3641 will have elapsed_time_seconds for 3637 to 3641\n",
    "# We need to do lines 10 and 14 separately because of difference in frequency and calculating the average later on \n",
    "lines_10_and_14 = stops_df[(stops_df.stop_id == 3641) | (stops_df.stop_id == 3633) & ((stops_df.line_id == 10) | (stops_df.line_id == 14))]"
   ]
  },
  {
   "cell_type": "code",
   "execution_count": 5,
   "metadata": {},
   "outputs": [],
   "source": [
    "# Filter by only lines 10 and 14.  We only need stops 3641 and 3633 because stop 3641 will have elapsed_time_seconds for 3637 to 3641\n",
    "# We need to do lines 10 and 14 separately because of difference in frequency and calculating the average later on \n",
    "line10 = stops_df[((stops_df.stop_id == 3641) | (stops_df.stop_id == 3633)) & (stops_df.line_id == 10)]\n",
    "line14 = stops_df[((stops_df.stop_id == 3641) | (stops_df.stop_id == 3633)) & (stops_df.line_id == 14)]"
   ]
  },
  {
   "cell_type": "code",
   "execution_count": 6,
   "metadata": {},
   "outputs": [],
   "source": [
    "# Filter to September 9am-10am for both 2017 and 2018\n",
    "# Note that act_arr_time is in UTC so I'm using hour 16 which will filter to 9am-10am PST\n",
    "line10_2017 = line10[(line10.act_arr_time >= '2017-09-01') & (line10.act_arr_time <= '2017-10-01')]\n",
    "line10_2018 = line10[(line10.act_arr_time >= '2018-09-01') & (line10.act_arr_time <= '2018-10-01')]\n",
    "line10_2017 = line10_2017[line10_2017['act_arr_time'].dt.hour == 16]\n",
    "line10_2018 = line10_2018[line10_2018['act_arr_time'].dt.hour == 16]\n",
    "\n",
    "line14_2017 = line14[(line14.act_arr_time >= '2017-09-01') & (line14.act_arr_time <= '2017-10-01')]\n",
    "line14_2018 = line14[(line14.act_arr_time >= '2018-09-01') & (line14.act_arr_time <= '2018-10-01')]\n",
    "line14_2017 = line14_2017[line14_2017['act_arr_time'].dt.hour == 16]\n",
    "line14_2018 = line14_2018[line14_2018['act_arr_time'].dt.hour == 16]"
   ]
  },
  {
   "cell_type": "code",
   "execution_count": 7,
   "metadata": {},
   "outputs": [],
   "source": [
    "# Filter to only weekdays \n",
    "line10_2017['weekday'] = line10_2017['act_arr_time'].apply(lambda x: x.weekday())\n",
    "line10_2017 = line10_2017[line10_2017['weekday'] < 5 ]\n",
    "line10_2018['weekday'] = line10_2018['act_arr_time'].apply(lambda x: x.weekday())\n",
    "line10_2018 = line10_2018[line10_2018['weekday'] < 5 ]\n",
    "\n",
    "line14_2017['weekday'] = line14_2017['act_arr_time'].apply(lambda x: x.weekday())\n",
    "line14_2017 = line14_2017[line14_2017['weekday'] < 5 ]\n",
    "line14_2018['weekday'] = line14_2018['act_arr_time'].apply(lambda x: x.weekday())\n",
    "line14_2018 = line14_2018[line14_2018['weekday'] < 5 ]"
   ]
  },
  {
   "cell_type": "code",
   "execution_count": 8,
   "metadata": {},
   "outputs": [
    {
     "name": "stdout",
     "output_type": "stream",
     "text": [
      "92 rows for line 10 in 2017\n",
      "77 rows for line 10 in 2018\n",
      "211 rows for line 14 in 2017\n",
      "184 rows for line 14 in 2018\n"
     ]
    }
   ],
   "source": [
    "# Check how many rows are in the dataframes\n",
    "print(str(len(line10_2017)) + \" rows for line 10 in 2017\")\n",
    "print(str(len(line10_2018)) + \" rows for line 10 in 2018\")\n",
    "print(str(len(line14_2017)) + \" rows for line 14 in 2017\")\n",
    "print(str(len(line14_2018)) + \" rows for line 14 in 2018\")"
   ]
  },
  {
   "cell_type": "code",
   "execution_count": 9,
   "metadata": {},
   "outputs": [
    {
     "name": "stdout",
     "output_type": "stream",
     "text": [
      "line 10 2017: 101.48333333333333 minutes\n",
      "line 10 2018: 63.46666666666667 minutes\n",
      "line 14 2017: 226.3 minutes\n",
      "line 14 2018: 183.6 minutes\n"
     ]
    }
   ],
   "source": [
    "# Total number of minutes to pass through the Madison corridor for lines 10 and 14 in 2017\n",
    "print(\"line 10 2017: \" + str(line10_2017.elapsed_time_seconds.sum()/60) + \" minutes\")\n",
    "print(\"line 10 2018: \" + str(line10_2018.elapsed_time_seconds.sum()/60) + \" minutes\")\n",
    "print(\"line 14 2017: \" + str(line14_2017.elapsed_time_seconds.sum()/60) + \" minutes\")\n",
    "print(\"line 14 2018: \" + str(line14_2018.elapsed_time_seconds.sum()/60) + \" minutes\")"
   ]
  },
  {
   "cell_type": "code",
   "execution_count": 10,
   "metadata": {},
   "outputs": [
    {
     "name": "stdout",
     "output_type": "stream",
     "text": [
      "Line 10 difference in minutes 2017 minus 2018: 38.016666666666666\n",
      "Line 14 difference in minutes 2017 minus 2018: 42.70000000000002\n"
     ]
    }
   ],
   "source": [
    "# Difference in minutes\n",
    "print(\"Line 10 difference in minutes 2017 minus 2018: \" + str(line10_2017.elapsed_time_seconds.sum()/60 - line10_2018.elapsed_time_seconds.sum()/60))\n",
    "print(\"Line 14 difference in minutes 2017 minus 2018: \" + str(line14_2017.elapsed_time_seconds.sum()/60 - line14_2018.elapsed_time_seconds.sum()/60))"
   ]
  },
  {
   "cell_type": "code",
   "execution_count": 11,
   "metadata": {},
   "outputs": [
    {
     "name": "stdout",
     "output_type": "stream",
     "text": [
      "Line 10 2017 value counts:\n",
      "3633    47\n",
      "3641    45\n",
      "Name: stop_id, dtype: int64\n",
      "\n",
      "Line 10 2018 value counts:\n",
      "3633    39\n",
      "3641    38\n",
      "Name: stop_id, dtype: int64\n",
      "\n",
      "Line 14 2017 value counts:\n",
      "3641    107\n",
      "3633    104\n",
      "Name: stop_id, dtype: int64\n",
      "\n",
      "Line 10 2018 value counts:\n",
      "3641    92\n",
      "3633    92\n",
      "Name: stop_id, dtype: int64\n",
      "\n",
      "Average time to get through the Madison corridor for line 10 in 2017: 2.206159420289855 minutes\n",
      "Average time to get through the Madison corridor for line 10 in 2018: 1.6484848484848484 minutes\n",
      "Average time to get through the Madison corridor for line 14 in 2017: 2.1450236966824647 minutes\n",
      "Average time to get through the Madison corridor for line 14 in 2018: 1.9956521739130435 minutes\n",
      "Average time to get through the Madison corridor for lines 10 and 14 in 2017: 2.17559155848616 minutes\n",
      "Average time to get through the Madison corridor for lines 10 and 14 in 2018: 1.822068511198946 minutes\n"
     ]
    }
   ],
   "source": [
    "# Average trip time in minutes for 2017 and 2018.  If each trip in the corridor is from stop 3637 to 3633 than one full trip should be the number of rows divided by\n",
    "# 2 since we are only including stops 3641 and 3633.  This seems mostly correct but there are a few one-offs as you can see from the value counts: \n",
    "print(\"Line 10 2017 value counts:\")\n",
    "print(line10_2017.stop_id.value_counts())\n",
    "print(\"\\nLine 10 2018 value counts:\")\n",
    "print(line10_2018.stop_id.value_counts())\n",
    "print(\"\\nLine 14 2017 value counts:\")\n",
    "print(line14_2017.stop_id.value_counts())\n",
    "print(\"\\nLine 10 2018 value counts:\")\n",
    "print(line14_2018.stop_id.value_counts())\n",
    "print(\"\\nAverage time to get through the Madison corridor for line 10 in 2017: \" + str(line10_2017.elapsed_time_seconds.sum()/60/(len(line10_2017)/2)) + \" minutes\")\n",
    "print(\"Average time to get through the Madison corridor for line 10 in 2018: \" + str(line10_2018.elapsed_time_seconds.sum()/60/(len(line10_2018)/2)) + \" minutes\")\n",
    "print(\"Average time to get through the Madison corridor for line 14 in 2017: \" + str(line14_2017.elapsed_time_seconds.sum()/60/(len(line14_2017)/2)) + \" minutes\")\n",
    "print(\"Average time to get through the Madison corridor for line 14 in 2018: \" + str(line14_2018.elapsed_time_seconds.sum()/60/(len(line14_2018)/2)) + \" minutes\")\n",
    "print(\"Average time to get through the Madison corridor for lines 10 and 14 in 2017: \" + str((line10_2017.elapsed_time_seconds.sum()/60/(len(line10_2017)/2) +\n",
    "                                                line14_2017.elapsed_time_seconds.sum()/60/(len(line14_2017)/2))/2) + \" minutes\")\n",
    "print(\"Average time to get through the Madison corridor for lines 10 and 14 in 2018: \" + str((line10_2018.elapsed_time_seconds.sum()/60/(len(line10_2018)/2) +\n",
    "                                                line14_2018.elapsed_time_seconds.sum()/60/(len(line14_2018)/2))/2) + \" minutes\")"
   ]
  },
  {
   "cell_type": "code",
   "execution_count": 12,
   "metadata": {},
   "outputs": [],
   "source": [
    "# There was some improvement in travel time from 9am-10am, what about from 6am-10am overall?\n",
    "# Filter to September 9am-10am for both 2017 and 2018\n",
    "# Note that act_arr_time is in UTC so I'm using hour 16 which will filter to 9am-10am PST\n",
    "line10_2017 = line10[(line10.act_arr_time >= '2017-09-01') & (line10.act_arr_time <= '2017-10-01')]\n",
    "line10_2018 = line10[(line10.act_arr_time >= '2018-09-01') & (line10.act_arr_time <= '2018-10-01')]\n",
    "line10_2017 = line10_2017[(line10_2017['act_arr_time'].dt.hour >= 16) & (line10_2017['act_arr_time'].dt.hour < 20)]\n",
    "line10_2018 = line10_2018[(line10_2018['act_arr_time'].dt.hour >= 16) & (line10_2018['act_arr_time'].dt.hour < 20)]\n",
    "\n",
    "line14_2017 = line14[(line14.act_arr_time >= '2017-09-01') & (line14.act_arr_time <= '2017-10-01')]\n",
    "line14_2018 = line14[(line14.act_arr_time >= '2018-09-01') & (line14.act_arr_time <= '2018-10-01')]\n",
    "line14_2017 = line14_2017[(line14_2017['act_arr_time'].dt.hour >= 16) & (line14_2017['act_arr_time'].dt.hour < 20)]\n",
    "line14_2018 = line14_2018[(line14_2018['act_arr_time'].dt.hour >= 16) & (line14_2018['act_arr_time'].dt.hour < 20)]"
   ]
  },
  {
   "cell_type": "code",
   "execution_count": 13,
   "metadata": {},
   "outputs": [],
   "source": [
    "# Filter to only weekdays \n",
    "line10_2017['weekday'] = line10_2017['act_arr_time'].apply(lambda x: x.weekday())\n",
    "line10_2017 = line10_2017[line10_2017['weekday'] < 5 ]\n",
    "line10_2018['weekday'] = line10_2018['act_arr_time'].apply(lambda x: x.weekday())\n",
    "line10_2018 = line10_2018[line10_2018['weekday'] < 5 ]\n",
    "\n",
    "line14_2017['weekday'] = line14_2017['act_arr_time'].apply(lambda x: x.weekday())\n",
    "line14_2017 = line14_2017[line14_2017['weekday'] < 5 ]\n",
    "line14_2018['weekday'] = line14_2018['act_arr_time'].apply(lambda x: x.weekday())\n",
    "line14_2018 = line14_2018[line14_2018['weekday'] < 5 ]"
   ]
  },
  {
   "cell_type": "code",
   "execution_count": 14,
   "metadata": {},
   "outputs": [
    {
     "name": "stdout",
     "output_type": "stream",
     "text": [
      "370 rows for line 10 in 2017\n",
      "347 rows for line 10 in 2018\n",
      "710 rows for line 14 in 2017\n",
      "656 rows for line 14 in 2018\n"
     ]
    }
   ],
   "source": [
    "# Check how many rows are in the dataframes\n",
    "print(str(len(line10_2017)) + \" rows for line 10 in 2017\")\n",
    "print(str(len(line10_2018)) + \" rows for line 10 in 2018\")\n",
    "print(str(len(line14_2017)) + \" rows for line 14 in 2017\")\n",
    "print(str(len(line14_2018)) + \" rows for line 14 in 2018\")"
   ]
  },
  {
   "cell_type": "code",
   "execution_count": 15,
   "metadata": {},
   "outputs": [
    {
     "name": "stdout",
     "output_type": "stream",
     "text": [
      "line 10 2017: 336.93333333333334 minutes\n",
      "line 10 2018: 287.73333333333335 minutes\n",
      "line 14 2017: 725.9666666666667 minutes\n",
      "line 14 2018: 681.0666666666667 minutes\n"
     ]
    }
   ],
   "source": [
    "# Total number of minutes to pass through the Madison corridor for lines 10 and 14 in 2017\n",
    "print(\"line 10 2017: \" + str(line10_2017.elapsed_time_seconds.sum()/60) + \" minutes\")\n",
    "print(\"line 10 2018: \" + str(line10_2018.elapsed_time_seconds.sum()/60) + \" minutes\")\n",
    "print(\"line 14 2017: \" + str(line14_2017.elapsed_time_seconds.sum()/60) + \" minutes\")\n",
    "print(\"line 14 2018: \" + str(line14_2018.elapsed_time_seconds.sum()/60) + \" minutes\")"
   ]
  },
  {
   "cell_type": "code",
   "execution_count": 16,
   "metadata": {},
   "outputs": [
    {
     "name": "stdout",
     "output_type": "stream",
     "text": [
      "Line 10 difference in minutes 2017 minus 2018: 49.19999999999999\n",
      "Line 14 difference in minutes 2017 minus 2018: 44.89999999999998\n"
     ]
    }
   ],
   "source": [
    "# Difference in minutes\n",
    "print(\"Line 10 difference in minutes 2017 minus 2018: \" + str(line10_2017.elapsed_time_seconds.sum()/60 - line10_2018.elapsed_time_seconds.sum()/60))\n",
    "print(\"Line 14 difference in minutes 2017 minus 2018: \" + str(line14_2017.elapsed_time_seconds.sum()/60 - line14_2018.elapsed_time_seconds.sum()/60))"
   ]
  },
  {
   "cell_type": "code",
   "execution_count": 17,
   "metadata": {},
   "outputs": [
    {
     "name": "stdout",
     "output_type": "stream",
     "text": [
      "Line 10 2017 value counts:\n",
      "3633    186\n",
      "3641    184\n",
      "Name: stop_id, dtype: int64\n",
      "\n",
      "Line 10 2018 value counts:\n",
      "3633    174\n",
      "3641    173\n",
      "Name: stop_id, dtype: int64\n",
      "\n",
      "Line 14 2017 value counts:\n",
      "3641    355\n",
      "3633    355\n",
      "Name: stop_id, dtype: int64\n",
      "\n",
      "Line 10 2018 value counts:\n",
      "3641    329\n",
      "3633    327\n",
      "Name: stop_id, dtype: int64\n",
      "\n",
      "Average time to get through the Madison corridor for line 10 in 2017: 1.8212612612612613 minutes\n",
      "Average time to get through the Madison corridor for line 10 in 2018: 1.6584053794428435 minutes\n",
      "Average time to get through the Madison corridor for line 14 in 2017: 2.044976525821596 minutes\n",
      "Average time to get through the Madison corridor for line 14 in 2018: 2.0764227642276425 minutes\n",
      "Average time to get through the Madison corridor for lines 10 and 14 in 2017: 1.9331188935414287 minutes\n",
      "Average time to get through the Madison corridor for lines 10 and 14 in 2018: 1.867414071835243 minutes\n"
     ]
    }
   ],
   "source": [
    "# Average trip time in minutes for 2017 and 2018.  If each trip in the corridor is from stop 3637 to 3633 than one full trip should be the number of rows divided by\n",
    "# 2 since we are only including stops 3641 and 3633.  This seems mostly correct but there are a few one-offs as you can see from the value counts: \n",
    "print(\"Line 10 2017 value counts:\")\n",
    "print(line10_2017.stop_id.value_counts())\n",
    "print(\"\\nLine 10 2018 value counts:\")\n",
    "print(line10_2018.stop_id.value_counts())\n",
    "print(\"\\nLine 14 2017 value counts:\")\n",
    "print(line14_2017.stop_id.value_counts())\n",
    "print(\"\\nLine 10 2018 value counts:\")\n",
    "print(line14_2018.stop_id.value_counts())\n",
    "print(\"\\nAverage time to get through the Madison corridor for line 10 in 2017: \" + str(line10_2017.elapsed_time_seconds.sum()/60/(len(line10_2017)/2)) + \" minutes\")\n",
    "print(\"Average time to get through the Madison corridor for line 10 in 2018: \" + str(line10_2018.elapsed_time_seconds.sum()/60/(len(line10_2018)/2)) + \" minutes\")\n",
    "print(\"Average time to get through the Madison corridor for line 14 in 2017: \" + str(line14_2017.elapsed_time_seconds.sum()/60/(len(line14_2017)/2)) + \" minutes\")\n",
    "print(\"Average time to get through the Madison corridor for line 14 in 2018: \" + str(line14_2018.elapsed_time_seconds.sum()/60/(len(line14_2018)/2)) + \" minutes\")\n",
    "print(\"Average time to get through the Madison corridor for lines 10 and 14 in 2017: \" + str((line10_2017.elapsed_time_seconds.sum()/60/(len(line10_2017)/2) +\n",
    "                                                line14_2017.elapsed_time_seconds.sum()/60/(len(line14_2017)/2))/2) + \" minutes\")\n",
    "print(\"Average time to get through the Madison corridor for lines 10 and 14 in 2018: \" + str((line10_2018.elapsed_time_seconds.sum()/60/(len(line10_2018)/2) +\n",
    "                                                line14_2018.elapsed_time_seconds.sum()/60/(len(line14_2018)/2))/2) + \" minutes\")"
   ]
  },
  {
   "cell_type": "code",
   "execution_count": 18,
   "metadata": {},
   "outputs": [],
   "source": [
    "# Check 10am\n",
    "# Filter to September 9am-10am for both 2017 and 2018\n",
    "# Note that act_arr_time is in UTC so I'm using hour 16 which will filter to 9am-10am PST\n",
    "line10_2017 = line10[(line10.act_arr_time >= '2017-09-01') & (line10.act_arr_time <= '2017-10-01')]\n",
    "line10_2018 = line10[(line10.act_arr_time >= '2018-09-01') & (line10.act_arr_time <= '2018-10-01')]\n",
    "line10_2017 = line10_2017[line10_2017['act_arr_time'].dt.hour == 17]\n",
    "line10_2018 = line10_2018[line10_2018['act_arr_time'].dt.hour == 17]\n",
    "\n",
    "line14_2017 = line14[(line14.act_arr_time >= '2017-09-01') & (line14.act_arr_time <= '2017-10-01')]\n",
    "line14_2018 = line14[(line14.act_arr_time >= '2018-09-01') & (line14.act_arr_time <= '2018-10-01')]\n",
    "line14_2017 = line14_2017[line14_2017['act_arr_time'].dt.hour == 17]\n",
    "line14_2018 = line14_2018[line14_2018['act_arr_time'].dt.hour == 17]"
   ]
  },
  {
   "cell_type": "code",
   "execution_count": 19,
   "metadata": {},
   "outputs": [],
   "source": [
    "# Filter to only weekdays \n",
    "line10_2017['weekday'] = line10_2017['act_arr_time'].apply(lambda x: x.weekday())\n",
    "line10_2017 = line10_2017[line10_2017['weekday'] < 5 ]\n",
    "line10_2018['weekday'] = line10_2018['act_arr_time'].apply(lambda x: x.weekday())\n",
    "line10_2018 = line10_2018[line10_2018['weekday'] < 5 ]\n",
    "\n",
    "line14_2017['weekday'] = line14_2017['act_arr_time'].apply(lambda x: x.weekday())\n",
    "line14_2017 = line14_2017[line14_2017['weekday'] < 5 ]\n",
    "line14_2018['weekday'] = line14_2018['act_arr_time'].apply(lambda x: x.weekday())\n",
    "line14_2018 = line14_2018[line14_2018['weekday'] < 5 ]"
   ]
  },
  {
   "cell_type": "code",
   "execution_count": 20,
   "metadata": {},
   "outputs": [
    {
     "name": "stdout",
     "output_type": "stream",
     "text": [
      "80 rows for line 10 in 2017\n",
      "78 rows for line 10 in 2018\n",
      "153 rows for line 14 in 2017\n",
      "170 rows for line 14 in 2018\n"
     ]
    }
   ],
   "source": [
    "# Check how many rows are in the dataframes\n",
    "print(str(len(line10_2017)) + \" rows for line 10 in 2017\")\n",
    "print(str(len(line10_2018)) + \" rows for line 10 in 2018\")\n",
    "print(str(len(line14_2017)) + \" rows for line 14 in 2017\")\n",
    "print(str(len(line14_2018)) + \" rows for line 14 in 2018\")"
   ]
  },
  {
   "cell_type": "code",
   "execution_count": 21,
   "metadata": {},
   "outputs": [
    {
     "name": "stdout",
     "output_type": "stream",
     "text": [
      "line 10 2017: 80.36666666666666 minutes\n",
      "line 10 2018: 65.38333333333334 minutes\n",
      "line 14 2017: 156.68333333333334 minutes\n",
      "line 14 2018: 196.13333333333333 minutes\n"
     ]
    }
   ],
   "source": [
    "# Total number of minutes to pass through the Madison corridor for lines 10 and 14 in 2017\n",
    "print(\"line 10 2017: \" + str(line10_2017.elapsed_time_seconds.sum()/60) + \" minutes\")\n",
    "print(\"line 10 2018: \" + str(line10_2018.elapsed_time_seconds.sum()/60) + \" minutes\")\n",
    "print(\"line 14 2017: \" + str(line14_2017.elapsed_time_seconds.sum()/60) + \" minutes\")\n",
    "print(\"line 14 2018: \" + str(line14_2018.elapsed_time_seconds.sum()/60) + \" minutes\")"
   ]
  },
  {
   "cell_type": "code",
   "execution_count": 22,
   "metadata": {},
   "outputs": [
    {
     "name": "stdout",
     "output_type": "stream",
     "text": [
      "Line 10 difference in minutes 2017 minus 2018: 14.98333333333332\n",
      "Line 14 difference in minutes 2017 minus 2018: -39.44999999999999\n"
     ]
    }
   ],
   "source": [
    "# Difference in minutes\n",
    "print(\"Line 10 difference in minutes 2017 minus 2018: \" + str(line10_2017.elapsed_time_seconds.sum()/60 - line10_2018.elapsed_time_seconds.sum()/60))\n",
    "print(\"Line 14 difference in minutes 2017 minus 2018: \" + str(line14_2017.elapsed_time_seconds.sum()/60 - line14_2018.elapsed_time_seconds.sum()/60))"
   ]
  },
  {
   "cell_type": "code",
   "execution_count": 23,
   "metadata": {},
   "outputs": [
    {
     "name": "stdout",
     "output_type": "stream",
     "text": [
      "Line 10 2017 value counts:\n",
      "3641    40\n",
      "3633    40\n",
      "Name: stop_id, dtype: int64\n",
      "\n",
      "Line 10 2018 value counts:\n",
      "3641    39\n",
      "3633    39\n",
      "Name: stop_id, dtype: int64\n",
      "\n",
      "Line 14 2017 value counts:\n",
      "3633    78\n",
      "3641    75\n",
      "Name: stop_id, dtype: int64\n",
      "\n",
      "Line 10 2018 value counts:\n",
      "3641    88\n",
      "3633    82\n",
      "Name: stop_id, dtype: int64\n",
      "\n",
      "Average time to get through the Madison corridor for line 10 in 2017: 2.0091666666666663 minutes\n",
      "Average time to get through the Madison corridor for line 10 in 2018: 1.6764957264957268 minutes\n",
      "Average time to get through the Madison corridor for line 14 in 2017: 2.0481481481481483 minutes\n",
      "Average time to get through the Madison corridor for line 14 in 2018: 2.3074509803921566 minutes\n",
      "Average time to get through the Madison corridor for lines 10 and 14 in 2017: 2.0286574074074073 minutes\n",
      "Average time to get through the Madison corridor for lines 10 and 14 in 2018: 1.9919733534439417 minutes\n"
     ]
    }
   ],
   "source": [
    "# Average trip time in minutes for 2017 and 2018.  If each trip in the corridor is from stop 3637 to 3633 than one full trip should be the number of rows divided by\n",
    "# 2 since we are only including stops 3641 and 3633.  This seems mostly correct but there are a few one-offs as you can see from the value counts: \n",
    "print(\"Line 10 2017 value counts:\")\n",
    "print(line10_2017.stop_id.value_counts())\n",
    "print(\"\\nLine 10 2018 value counts:\")\n",
    "print(line10_2018.stop_id.value_counts())\n",
    "print(\"\\nLine 14 2017 value counts:\")\n",
    "print(line14_2017.stop_id.value_counts())\n",
    "print(\"\\nLine 10 2018 value counts:\")\n",
    "print(line14_2018.stop_id.value_counts())\n",
    "print(\"\\nAverage time to get through the Madison corridor for line 10 in 2017: \" + str(line10_2017.elapsed_time_seconds.sum()/60/(len(line10_2017)/2)) + \" minutes\")\n",
    "print(\"Average time to get through the Madison corridor for line 10 in 2018: \" + str(line10_2018.elapsed_time_seconds.sum()/60/(len(line10_2018)/2)) + \" minutes\")\n",
    "print(\"Average time to get through the Madison corridor for line 14 in 2017: \" + str(line14_2017.elapsed_time_seconds.sum()/60/(len(line14_2017)/2)) + \" minutes\")\n",
    "print(\"Average time to get through the Madison corridor for line 14 in 2018: \" + str(line14_2018.elapsed_time_seconds.sum()/60/(len(line14_2018)/2)) + \" minutes\")\n",
    "print(\"Average time to get through the Madison corridor for lines 10 and 14 in 2017: \" + str((line10_2017.elapsed_time_seconds.sum()/60/(len(line10_2017)/2) +\n",
    "                                                line14_2017.elapsed_time_seconds.sum()/60/(len(line14_2017)/2))/2) + \" minutes\")\n",
    "print(\"Average time to get through the Madison corridor for lines 10 and 14 in 2018: \" + str((line10_2018.elapsed_time_seconds.sum()/60/(len(line10_2018)/2) +\n",
    "                                                line14_2018.elapsed_time_seconds.sum()/60/(len(line14_2018)/2))/2) + \" minutes\")"
   ]
  },
  {
   "cell_type": "code",
   "execution_count": 24,
   "metadata": {},
   "outputs": [],
   "source": [
    "# Check 11am\n",
    "# Filter to September 9am-10am for both 2017 and 2018\n",
    "# Note that act_arr_time is in UTC so I'm using hour 16 which will filter to 9am-10am PST\n",
    "line10_2017 = line10[(line10.act_arr_time >= '2017-09-01') & (line10.act_arr_time <= '2017-10-01')]\n",
    "line10_2018 = line10[(line10.act_arr_time >= '2018-09-01') & (line10.act_arr_time <= '2018-10-01')]\n",
    "line10_2017 = line10_2017[line10_2017['act_arr_time'].dt.hour == 18]\n",
    "line10_2018 = line10_2018[line10_2018['act_arr_time'].dt.hour == 18]\n",
    "\n",
    "line14_2017 = line14[(line14.act_arr_time >= '2017-09-01') & (line14.act_arr_time <= '2017-10-01')]\n",
    "line14_2018 = line14[(line14.act_arr_time >= '2018-09-01') & (line14.act_arr_time <= '2018-10-01')]\n",
    "line14_2017 = line14_2017[line14_2017['act_arr_time'].dt.hour == 18]\n",
    "line14_2018 = line14_2018[line14_2018['act_arr_time'].dt.hour == 18]"
   ]
  },
  {
   "cell_type": "code",
   "execution_count": 25,
   "metadata": {},
   "outputs": [],
   "source": [
    "# Filter to only weekdays \n",
    "line10_2017['weekday'] = line10_2017['act_arr_time'].apply(lambda x: x.weekday())\n",
    "line10_2017 = line10_2017[line10_2017['weekday'] < 5 ]\n",
    "line10_2018['weekday'] = line10_2018['act_arr_time'].apply(lambda x: x.weekday())\n",
    "line10_2018 = line10_2018[line10_2018['weekday'] < 5 ]\n",
    "\n",
    "line14_2017['weekday'] = line14_2017['act_arr_time'].apply(lambda x: x.weekday())\n",
    "line14_2017 = line14_2017[line14_2017['weekday'] < 5 ]\n",
    "line14_2018['weekday'] = line14_2018['act_arr_time'].apply(lambda x: x.weekday())\n",
    "line14_2018 = line14_2018[line14_2018['weekday'] < 5 ]"
   ]
  },
  {
   "cell_type": "code",
   "execution_count": 26,
   "metadata": {},
   "outputs": [
    {
     "name": "stdout",
     "output_type": "stream",
     "text": [
      "103 rows for line 10 in 2017\n",
      "103 rows for line 10 in 2018\n",
      "163 rows for line 14 in 2017\n",
      "153 rows for line 14 in 2018\n"
     ]
    }
   ],
   "source": [
    "# Check how many rows are in the dataframes\n",
    "print(str(len(line10_2017)) + \" rows for line 10 in 2017\")\n",
    "print(str(len(line10_2018)) + \" rows for line 10 in 2018\")\n",
    "print(str(len(line14_2017)) + \" rows for line 14 in 2017\")\n",
    "print(str(len(line14_2018)) + \" rows for line 14 in 2018\")"
   ]
  },
  {
   "cell_type": "code",
   "execution_count": 27,
   "metadata": {},
   "outputs": [
    {
     "name": "stdout",
     "output_type": "stream",
     "text": [
      "line 10 2017: 80.15 minutes\n",
      "line 10 2018: 86.65 minutes\n",
      "line 14 2017: 158.91666666666666 minutes\n",
      "line 14 2018: 148.1 minutes\n"
     ]
    }
   ],
   "source": [
    "# Total number of minutes to pass through the Madison corridor for lines 10 and 14 in 2017\n",
    "print(\"line 10 2017: \" + str(line10_2017.elapsed_time_seconds.sum()/60) + \" minutes\")\n",
    "print(\"line 10 2018: \" + str(line10_2018.elapsed_time_seconds.sum()/60) + \" minutes\")\n",
    "print(\"line 14 2017: \" + str(line14_2017.elapsed_time_seconds.sum()/60) + \" minutes\")\n",
    "print(\"line 14 2018: \" + str(line14_2018.elapsed_time_seconds.sum()/60) + \" minutes\")"
   ]
  },
  {
   "cell_type": "code",
   "execution_count": 28,
   "metadata": {},
   "outputs": [
    {
     "name": "stdout",
     "output_type": "stream",
     "text": [
      "Line 10 difference in minutes 2017 minus 2018: -6.5\n",
      "Line 14 difference in minutes 2017 minus 2018: 10.816666666666663\n"
     ]
    }
   ],
   "source": [
    "# Difference in minutes\n",
    "print(\"Line 10 difference in minutes 2017 minus 2018: \" + str(line10_2017.elapsed_time_seconds.sum()/60 - line10_2018.elapsed_time_seconds.sum()/60))\n",
    "print(\"Line 14 difference in minutes 2017 minus 2018: \" + str(line14_2017.elapsed_time_seconds.sum()/60 - line14_2018.elapsed_time_seconds.sum()/60))"
   ]
  },
  {
   "cell_type": "code",
   "execution_count": 29,
   "metadata": {},
   "outputs": [
    {
     "name": "stdout",
     "output_type": "stream",
     "text": [
      "Line 10 2017 value counts:\n",
      "3641    53\n",
      "3633    50\n",
      "Name: stop_id, dtype: int64\n",
      "\n",
      "Line 10 2018 value counts:\n",
      "3641    52\n",
      "3633    51\n",
      "Name: stop_id, dtype: int64\n",
      "\n",
      "Line 14 2017 value counts:\n",
      "3641    84\n",
      "3633    79\n",
      "Name: stop_id, dtype: int64\n",
      "\n",
      "Line 10 2018 value counts:\n",
      "3633    78\n",
      "3641    75\n",
      "Name: stop_id, dtype: int64\n",
      "\n",
      "Average time to get through the Madison corridor for line 10 in 2017: 1.5563106796116506 minutes\n",
      "Average time to get through the Madison corridor for line 10 in 2018: 1.6825242718446602 minutes\n",
      "Average time to get through the Madison corridor for line 14 in 2017: 1.9498977505112474 minutes\n",
      "Average time to get through the Madison corridor for line 14 in 2018: 1.9359477124183007 minutes\n",
      "Average time to get through the Madison corridor for lines 10 and 14 in 2017: 1.753104215061449 minutes\n",
      "Average time to get through the Madison corridor for lines 10 and 14 in 2018: 1.8092359921314805 minutes\n"
     ]
    }
   ],
   "source": [
    "# Average trip time in minutes for 2017 and 2018.  If each trip in the corridor is from stop 3637 to 3633 than one full trip should be the number of rows divided by\n",
    "# 2 since we are only including stops 3641 and 3633.  This seems mostly correct but there are a few one-offs as you can see from the value counts: \n",
    "print(\"Line 10 2017 value counts:\")\n",
    "print(line10_2017.stop_id.value_counts())\n",
    "print(\"\\nLine 10 2018 value counts:\")\n",
    "print(line10_2018.stop_id.value_counts())\n",
    "print(\"\\nLine 14 2017 value counts:\")\n",
    "print(line14_2017.stop_id.value_counts())\n",
    "print(\"\\nLine 10 2018 value counts:\")\n",
    "print(line14_2018.stop_id.value_counts())\n",
    "print(\"\\nAverage time to get through the Madison corridor for line 10 in 2017: \" + str(line10_2017.elapsed_time_seconds.sum()/60/(len(line10_2017)/2)) + \" minutes\")\n",
    "print(\"Average time to get through the Madison corridor for line 10 in 2018: \" + str(line10_2018.elapsed_time_seconds.sum()/60/(len(line10_2018)/2)) + \" minutes\")\n",
    "print(\"Average time to get through the Madison corridor for line 14 in 2017: \" + str(line14_2017.elapsed_time_seconds.sum()/60/(len(line14_2017)/2)) + \" minutes\")\n",
    "print(\"Average time to get through the Madison corridor for line 14 in 2018: \" + str(line14_2018.elapsed_time_seconds.sum()/60/(len(line14_2018)/2)) + \" minutes\")\n",
    "print(\"Average time to get through the Madison corridor for lines 10 and 14 in 2017: \" + str((line10_2017.elapsed_time_seconds.sum()/60/(len(line10_2017)/2) +\n",
    "                                                line14_2017.elapsed_time_seconds.sum()/60/(len(line14_2017)/2))/2) + \" minutes\")\n",
    "print(\"Average time to get through the Madison corridor for lines 10 and 14 in 2018: \" + str((line10_2018.elapsed_time_seconds.sum()/60/(len(line10_2018)/2) +\n",
    "                                                line14_2018.elapsed_time_seconds.sum()/60/(len(line14_2018)/2))/2) + \" minutes\")"
   ]
  },
  {
   "cell_type": "code",
   "execution_count": 30,
   "metadata": {},
   "outputs": [],
   "source": [
    "# The overall improvement isn't that impressive.  Look at disturbance delay for the same windows for comparison\n",
    "delay_2017 = pd.read_csv('../data/interim/TOAD/hawthorne_disturbance_sep2017.csv')\n",
    "delay_2018 = pd.read_csv('../data/interim/TOAD/hawthorne_disturbance_jul2018-dec2018.csv')"
   ]
  },
  {
   "cell_type": "code",
   "execution_count": 31,
   "metadata": {},
   "outputs": [],
   "source": [
    "# Filter to only 9am\n",
    "delay_2017_9am = delay_2017[(delay_2017.ACT_ARR_TIME >= 32400) & (delay_2017.ACT_ARR_TIME <= 36000)]"
   ]
  },
  {
   "cell_type": "code",
   "execution_count": 32,
   "metadata": {},
   "outputs": [],
   "source": [
    "# Remove stop 7856\n",
    "delay_2017_9am = delay_2017_9am[delay_2017_9am.start_location == 3637]"
   ]
  },
  {
   "cell_type": "code",
   "execution_count": 33,
   "metadata": {},
   "outputs": [],
   "source": [
    "# Already only have weekdays, don't need this\n",
    "# delay_2017['SERVICE_DATE'] =  pd.to_datetime(delay_2017['SERVICE_DATE'], format='%d%b%Y:00:00:00')\n",
    "# delay_2017['weekday'] = delay_2017['SERVICE_DATE'].apply(lambda x: x.weekday())\n",
    "# delay_2017 = delay_2017[delay_2017['weekday'] < 5 ]"
   ]
  },
  {
   "cell_type": "code",
   "execution_count": 34,
   "metadata": {},
   "outputs": [
    {
     "data": {
      "text/plain": [
       "3237"
      ]
     },
     "execution_count": 34,
     "metadata": {},
     "output_type": "execute_result"
    }
   ],
   "source": [
    "delay_2017_9am.delay.sum()"
   ]
  },
  {
   "cell_type": "code",
   "execution_count": 35,
   "metadata": {},
   "outputs": [],
   "source": [
    "delay_2018['SERVICE_DATE'] = delay_2018['SERVICE_DATE'].str[:7]\n",
    "delay_2018['SERVICE_DATE'] =  pd.to_datetime(delay_2018['SERVICE_DATE'])\n",
    "delay_2018 = delay_2018[(delay_2018.SERVICE_DATE >= '2018-09-01') & (delay_2018.SERVICE_DATE < '2018-10-01')]"
   ]
  },
  {
   "cell_type": "code",
   "execution_count": 36,
   "metadata": {},
   "outputs": [],
   "source": [
    "# Filter to only 9am\n",
    "delay_2018_9am = delay_2018[(delay_2018.ACT_ARR_TIME >= 32400) & (delay_2018.ACT_ARR_TIME <= 36000)]"
   ]
  },
  {
   "cell_type": "code",
   "execution_count": 37,
   "metadata": {},
   "outputs": [],
   "source": [
    "# Remove stop 7856\n",
    "delay_2018_9am = delay_2018_9am[delay_2018_9am.start_location == 3637]"
   ]
  },
  {
   "cell_type": "code",
   "execution_count": 38,
   "metadata": {},
   "outputs": [
    {
     "data": {
      "text/plain": [
       "572"
      ]
     },
     "execution_count": 38,
     "metadata": {},
     "output_type": "execute_result"
    }
   ],
   "source": [
    "delay_2018_9am.delay.sum()"
   ]
  },
  {
   "cell_type": "code",
   "execution_count": 39,
   "metadata": {},
   "outputs": [
    {
     "name": "stdout",
     "output_type": "stream",
     "text": [
      "<class 'pandas.core.frame.DataFrame'>\n",
      "Int64Index: 98 entries, 1969 to 2765\n",
      "Data columns (total 17 columns):\n",
      "SERVICE_DATE      98 non-null object\n",
      "SERVICE_KEY       98 non-null object\n",
      "TRAIN             98 non-null int64\n",
      "TRIP_NUMBER       98 non-null int64\n",
      "bus               98 non-null int64\n",
      "ROUTE_NUMBER      98 non-null int64\n",
      "DIRECTION         98 non-null int64\n",
      "start_location    98 non-null int64\n",
      "depart            98 non-null int64\n",
      "end_location      98 non-null int64\n",
      "arrive            98 non-null int64\n",
      "ACT_ARR_TIME      98 non-null int64\n",
      "ACT_DEP_TIME      98 non-null int64\n",
      "STOP_TYPE         98 non-null int64\n",
      "GPS_LONGITUDE     98 non-null float64\n",
      "GPS_LATITUDE      98 non-null float64\n",
      "delay             98 non-null int64\n",
      "dtypes: float64(2), int64(13), object(2)\n",
      "memory usage: 13.8+ KB\n"
     ]
    }
   ],
   "source": [
    "delay_2017_9am.info()"
   ]
  },
  {
   "cell_type": "code",
   "execution_count": 40,
   "metadata": {},
   "outputs": [
    {
     "name": "stdout",
     "output_type": "stream",
     "text": [
      "<class 'pandas.core.frame.DataFrame'>\n",
      "Int64Index: 11 entries, 5119 to 6857\n",
      "Data columns (total 17 columns):\n",
      "SERVICE_DATE      11 non-null datetime64[ns]\n",
      "SERVICE_KEY       11 non-null object\n",
      "TRAIN             11 non-null int64\n",
      "TRIP_NUMBER       11 non-null int64\n",
      "bus               11 non-null int64\n",
      "ROUTE_NUMBER      11 non-null int64\n",
      "DIRECTION         11 non-null int64\n",
      "start_location    11 non-null int64\n",
      "depart            11 non-null int64\n",
      "end_location      11 non-null int64\n",
      "arrive            11 non-null int64\n",
      "ACT_ARR_TIME      11 non-null int64\n",
      "ACT_DEP_TIME      11 non-null int64\n",
      "STOP_TYPE         11 non-null int64\n",
      "GPS_LONGITUDE     11 non-null float64\n",
      "GPS_LATITUDE      11 non-null float64\n",
      "delay             11 non-null int64\n",
      "dtypes: datetime64[ns](1), float64(2), int64(13), object(1)\n",
      "memory usage: 1.5+ KB\n"
     ]
    }
   ],
   "source": [
    "delay_2018_9am.info()"
   ]
  },
  {
   "cell_type": "code",
   "execution_count": 41,
   "metadata": {},
   "outputs": [],
   "source": [
    "# This confirms that there were way less disturbance stops during 9am-10am.  Check 6am-10am\n",
    "# Filter to only 6am-10am\n",
    "delay_2017_6_10am = delay_2017[(delay_2017.ACT_ARR_TIME >= 21600) & (delay_2017.ACT_ARR_TIME <= 36000)]\n",
    "delay_2018_6_10am = delay_2018[(delay_2018.ACT_ARR_TIME >= 21600) & (delay_2018.ACT_ARR_TIME <= 36000)]\n",
    "# Remove stop 7856\n",
    "delay_2017_6_10am = delay_2017_6_10am[delay_2017_6_10am.start_location == 3637]\n",
    "delay_2018_6_10am = delay_2018_6_10am[delay_2018_6_10am.start_location == 3637]"
   ]
  },
  {
   "cell_type": "code",
   "execution_count": 42,
   "metadata": {},
   "outputs": [
    {
     "name": "stdout",
     "output_type": "stream",
     "text": [
      "<class 'pandas.core.frame.DataFrame'>\n",
      "Int64Index: 574 entries, 1947 to 2768\n",
      "Data columns (total 17 columns):\n",
      "SERVICE_DATE      574 non-null object\n",
      "SERVICE_KEY       574 non-null object\n",
      "TRAIN             574 non-null int64\n",
      "TRIP_NUMBER       574 non-null int64\n",
      "bus               574 non-null int64\n",
      "ROUTE_NUMBER      574 non-null int64\n",
      "DIRECTION         574 non-null int64\n",
      "start_location    574 non-null int64\n",
      "depart            574 non-null int64\n",
      "end_location      574 non-null int64\n",
      "arrive            574 non-null int64\n",
      "ACT_ARR_TIME      574 non-null int64\n",
      "ACT_DEP_TIME      574 non-null int64\n",
      "STOP_TYPE         574 non-null int64\n",
      "GPS_LONGITUDE     574 non-null float64\n",
      "GPS_LATITUDE      574 non-null float64\n",
      "delay             574 non-null int64\n",
      "dtypes: float64(2), int64(13), object(2)\n",
      "memory usage: 80.7+ KB\n"
     ]
    }
   ],
   "source": [
    "delay_2017_6_10am.info()"
   ]
  },
  {
   "cell_type": "code",
   "execution_count": 43,
   "metadata": {},
   "outputs": [
    {
     "name": "stdout",
     "output_type": "stream",
     "text": [
      "<class 'pandas.core.frame.DataFrame'>\n",
      "Int64Index: 276 entries, 5114 to 7280\n",
      "Data columns (total 17 columns):\n",
      "SERVICE_DATE      276 non-null datetime64[ns]\n",
      "SERVICE_KEY       276 non-null object\n",
      "TRAIN             276 non-null int64\n",
      "TRIP_NUMBER       276 non-null int64\n",
      "bus               276 non-null int64\n",
      "ROUTE_NUMBER      276 non-null int64\n",
      "DIRECTION         276 non-null int64\n",
      "start_location    276 non-null int64\n",
      "depart            276 non-null int64\n",
      "end_location      276 non-null int64\n",
      "arrive            276 non-null int64\n",
      "ACT_ARR_TIME      276 non-null int64\n",
      "ACT_DEP_TIME      276 non-null int64\n",
      "STOP_TYPE         276 non-null int64\n",
      "GPS_LONGITUDE     276 non-null float64\n",
      "GPS_LATITUDE      276 non-null float64\n",
      "delay             276 non-null int64\n",
      "dtypes: datetime64[ns](1), float64(2), int64(13), object(1)\n",
      "memory usage: 38.8+ KB\n"
     ]
    }
   ],
   "source": [
    "delay_2018_6_10am.info()"
   ]
  },
  {
   "cell_type": "code",
   "execution_count": 44,
   "metadata": {},
   "outputs": [
    {
     "data": {
      "text/plain": [
       "16565"
      ]
     },
     "execution_count": 44,
     "metadata": {},
     "output_type": "execute_result"
    }
   ],
   "source": [
    "delay_2017_6_10am.delay.sum()"
   ]
  },
  {
   "cell_type": "code",
   "execution_count": 45,
   "metadata": {},
   "outputs": [
    {
     "data": {
      "text/plain": [
       "6842"
      ]
     },
     "execution_count": 45,
     "metadata": {},
     "output_type": "execute_result"
    }
   ],
   "source": [
    "delay_2018_6_10am.delay.sum()"
   ]
  },
  {
   "cell_type": "code",
   "execution_count": 46,
   "metadata": {},
   "outputs": [],
   "source": [
    "# Check 10am-11am\n",
    "# Filter to only 10am-11am\n",
    "delay_2017_10am = delay_2017[(delay_2017.ACT_ARR_TIME >= 36000) & (delay_2017.ACT_ARR_TIME <= 39600)]\n",
    "delay_2018_10am = delay_2018[(delay_2018.ACT_ARR_TIME >= 36000) & (delay_2018.ACT_ARR_TIME <= 39600)]\n",
    "# Remove stop 7856\n",
    "delay_2017_10am = delay_2017_10am[delay_2017_10am.start_location == 3637]\n",
    "delay_2018_10am = delay_2018_10am[delay_2018_10am.start_location == 3637]"
   ]
  },
  {
   "cell_type": "code",
   "execution_count": 47,
   "metadata": {},
   "outputs": [
    {
     "name": "stdout",
     "output_type": "stream",
     "text": [
      "<class 'pandas.core.frame.DataFrame'>\n",
      "Int64Index: 26 entries, 2051 to 2690\n",
      "Data columns (total 17 columns):\n",
      "SERVICE_DATE      26 non-null object\n",
      "SERVICE_KEY       26 non-null object\n",
      "TRAIN             26 non-null int64\n",
      "TRIP_NUMBER       26 non-null int64\n",
      "bus               26 non-null int64\n",
      "ROUTE_NUMBER      26 non-null int64\n",
      "DIRECTION         26 non-null int64\n",
      "start_location    26 non-null int64\n",
      "depart            26 non-null int64\n",
      "end_location      26 non-null int64\n",
      "arrive            26 non-null int64\n",
      "ACT_ARR_TIME      26 non-null int64\n",
      "ACT_DEP_TIME      26 non-null int64\n",
      "STOP_TYPE         26 non-null int64\n",
      "GPS_LONGITUDE     26 non-null float64\n",
      "GPS_LATITUDE      26 non-null float64\n",
      "delay             26 non-null int64\n",
      "dtypes: float64(2), int64(13), object(2)\n",
      "memory usage: 3.7+ KB\n"
     ]
    }
   ],
   "source": [
    "delay_2017_10am.info()"
   ]
  },
  {
   "cell_type": "code",
   "execution_count": 48,
   "metadata": {},
   "outputs": [
    {
     "name": "stdout",
     "output_type": "stream",
     "text": [
      "<class 'pandas.core.frame.DataFrame'>\n",
      "Int64Index: 8 entries, 5260 to 7232\n",
      "Data columns (total 17 columns):\n",
      "SERVICE_DATE      8 non-null datetime64[ns]\n",
      "SERVICE_KEY       8 non-null object\n",
      "TRAIN             8 non-null int64\n",
      "TRIP_NUMBER       8 non-null int64\n",
      "bus               8 non-null int64\n",
      "ROUTE_NUMBER      8 non-null int64\n",
      "DIRECTION         8 non-null int64\n",
      "start_location    8 non-null int64\n",
      "depart            8 non-null int64\n",
      "end_location      8 non-null int64\n",
      "arrive            8 non-null int64\n",
      "ACT_ARR_TIME      8 non-null int64\n",
      "ACT_DEP_TIME      8 non-null int64\n",
      "STOP_TYPE         8 non-null int64\n",
      "GPS_LONGITUDE     8 non-null float64\n",
      "GPS_LATITUDE      8 non-null float64\n",
      "delay             8 non-null int64\n",
      "dtypes: datetime64[ns](1), float64(2), int64(13), object(1)\n",
      "memory usage: 1.1+ KB\n"
     ]
    }
   ],
   "source": [
    "delay_2018_10am.info()"
   ]
  },
  {
   "cell_type": "code",
   "execution_count": 49,
   "metadata": {},
   "outputs": [
    {
     "data": {
      "text/plain": [
       "1429"
      ]
     },
     "execution_count": 49,
     "metadata": {},
     "output_type": "execute_result"
    }
   ],
   "source": [
    "delay_2017_10am.delay.sum()"
   ]
  },
  {
   "cell_type": "code",
   "execution_count": 50,
   "metadata": {},
   "outputs": [
    {
     "data": {
      "text/plain": [
       "491"
      ]
     },
     "execution_count": 50,
     "metadata": {},
     "output_type": "execute_result"
    }
   ],
   "source": [
    "delay_2018_10am.delay.sum()"
   ]
  },
  {
   "cell_type": "code",
   "execution_count": 51,
   "metadata": {},
   "outputs": [],
   "source": [
    "# Check 11am-12pm\n",
    "# Filter to only 10am-11am\n",
    "delay_2017_11am = delay_2017[(delay_2017.ACT_ARR_TIME >= 39600) & (delay_2017.ACT_ARR_TIME <= 43200)]\n",
    "delay_2018_11am = delay_2018[(delay_2018.ACT_ARR_TIME >= 39600) & (delay_2018.ACT_ARR_TIME <= 43200)]\n",
    "# Remove stop 7856\n",
    "delay_2017_11am = delay_2017_11am[delay_2017_11am.start_location == 3637]\n",
    "delay_2018_11am = delay_2018_11am[delay_2018_11am.start_location == 3637]"
   ]
  },
  {
   "cell_type": "code",
   "execution_count": 52,
   "metadata": {},
   "outputs": [
    {
     "name": "stdout",
     "output_type": "stream",
     "text": [
      "<class 'pandas.core.frame.DataFrame'>\n",
      "Int64Index: 13 entries, 2206 to 2769\n",
      "Data columns (total 17 columns):\n",
      "SERVICE_DATE      13 non-null object\n",
      "SERVICE_KEY       13 non-null object\n",
      "TRAIN             13 non-null int64\n",
      "TRIP_NUMBER       13 non-null int64\n",
      "bus               13 non-null int64\n",
      "ROUTE_NUMBER      13 non-null int64\n",
      "DIRECTION         13 non-null int64\n",
      "start_location    13 non-null int64\n",
      "depart            13 non-null int64\n",
      "end_location      13 non-null int64\n",
      "arrive            13 non-null int64\n",
      "ACT_ARR_TIME      13 non-null int64\n",
      "ACT_DEP_TIME      13 non-null int64\n",
      "STOP_TYPE         13 non-null int64\n",
      "GPS_LONGITUDE     13 non-null float64\n",
      "GPS_LATITUDE      13 non-null float64\n",
      "delay             13 non-null int64\n",
      "dtypes: float64(2), int64(13), object(2)\n",
      "memory usage: 1.8+ KB\n"
     ]
    }
   ],
   "source": [
    "delay_2017_11am.info()"
   ]
  },
  {
   "cell_type": "code",
   "execution_count": 53,
   "metadata": {},
   "outputs": [
    {
     "name": "stdout",
     "output_type": "stream",
     "text": [
      "<class 'pandas.core.frame.DataFrame'>\n",
      "Int64Index: 14 entries, 5256 to 7224\n",
      "Data columns (total 17 columns):\n",
      "SERVICE_DATE      14 non-null datetime64[ns]\n",
      "SERVICE_KEY       14 non-null object\n",
      "TRAIN             14 non-null int64\n",
      "TRIP_NUMBER       14 non-null int64\n",
      "bus               14 non-null int64\n",
      "ROUTE_NUMBER      14 non-null int64\n",
      "DIRECTION         14 non-null int64\n",
      "start_location    14 non-null int64\n",
      "depart            14 non-null int64\n",
      "end_location      14 non-null int64\n",
      "arrive            14 non-null int64\n",
      "ACT_ARR_TIME      14 non-null int64\n",
      "ACT_DEP_TIME      14 non-null int64\n",
      "STOP_TYPE         14 non-null int64\n",
      "GPS_LONGITUDE     14 non-null float64\n",
      "GPS_LATITUDE      14 non-null float64\n",
      "delay             14 non-null int64\n",
      "dtypes: datetime64[ns](1), float64(2), int64(13), object(1)\n",
      "memory usage: 2.0+ KB\n"
     ]
    }
   ],
   "source": [
    "delay_2018_11am.info()"
   ]
  },
  {
   "cell_type": "code",
   "execution_count": 54,
   "metadata": {},
   "outputs": [
    {
     "data": {
      "text/plain": [
       "575"
      ]
     },
     "execution_count": 54,
     "metadata": {},
     "output_type": "execute_result"
    }
   ],
   "source": [
    "delay_2017_11am.delay.sum()"
   ]
  },
  {
   "cell_type": "code",
   "execution_count": 55,
   "metadata": {},
   "outputs": [
    {
     "data": {
      "text/plain": [
       "597"
      ]
     },
     "execution_count": 55,
     "metadata": {},
     "output_type": "execute_result"
    }
   ],
   "source": [
    "delay_2018_11am.delay.sum()"
   ]
  },
  {
   "cell_type": "code",
   "execution_count": null,
   "metadata": {},
   "outputs": [],
   "source": []
  }
 ],
 "metadata": {
  "kernelspec": {
   "display_name": "Python 3",
   "language": "python",
   "name": "python3"
  },
  "language_info": {
   "codemirror_mode": {
    "name": "ipython",
    "version": 3
   },
   "file_extension": ".py",
   "mimetype": "text/x-python",
   "name": "python",
   "nbconvert_exporter": "python",
   "pygments_lexer": "ipython3",
   "version": "3.7.3"
  }
 },
 "nbformat": 4,
 "nbformat_minor": 2
}
