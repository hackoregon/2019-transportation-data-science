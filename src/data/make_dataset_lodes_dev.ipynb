{
 "cells": [
  {
   "cell_type": "code",
   "execution_count": 1,
   "metadata": {},
   "outputs": [
    {
     "name": "stdout",
     "output_type": "stream",
     "text": [
      "\n"
     ]
    }
   ],
   "source": [
    "from pathlib import Path\n",
    "\n",
    "import pandas as pd\n",
    "\n",
    "external_folder = Path('../../data/external/LODES')\n",
    "interim_folder = Path('../../data/interim/LODES')\n",
    "\"\"\"\n",
    "Filetypes \n",
    "- od\n",
    "- rac\n",
    "- wac\n",
    "- xwalk\n",
    "\n",
    "OD\n",
    "[ST]_od_[PART]_[TYPE]_[YEAR].csv.gz where\n",
    "    [ST] = lowercase, 2-letter postal code for a chosen state\n",
    "    [PART] = Part of the state file, can have a value of either “main” or “aux”. Complimentary parts of\n",
    "    the state file, the main part includes jobs with both workplace and residence in the state\n",
    "    and the aux part includes jobs with the workplace in the state and the residence outside of\n",
    "    the state.\n",
    "    [TYPE] = Job Type, can have a value of “JT00” for All Jobs, “JT01” for Primary Jobs, “JT02” for\n",
    "    All Private Jobs, “JT03” for Private Primary Jobs, “JT04” for All Federal Jobs, or “JT05”\n",
    "    for Federal Primary Jobs.\n",
    "    [YEAR] = Year of job data. Can have the value of 2002-2015 for most states. \n",
    "\n",
    "RAC\n",
    "[ST]_rac_[SEG]_[TYPE]_[YEAR]_1.csv.gz where\n",
    "    [ST] = lowercase, 2-letter postal code for a chosen state\n",
    "    [SEG] = Segment of the workforce, can have the values of “S000”, “SA01”, “SA02”, “SA03”,\n",
    "    “SE01”, “SE02”, “SE03”, “SI01”, “SI02”, or “SI03”. These correspond to the same\n",
    "    segments of the workforce as are listed in the OD file structure above.\n",
    "    [TYPE] = Job Type, can have a value of “JT00” for All Jobs, “JT01” for Primary Jobs, “JT02” for\n",
    "    All Private Jobs, “JT03” for Private Primary Jobs, “JT04” for All Federal Jobs, or “JT05”\n",
    "    for Federal Primary Jobs.\n",
    "    [YEAR] = Year of job data. Can have the value of 2002-2015 for most states.\n",
    "    \n",
    "WAC\n",
    "[ST]_wac_[SEG]_[TYPE]_[YEAR].csv.gz where\n",
    "    [ST] = lowercase, 2-letter postal code for a chosen state\n",
    "    [SEG] = Segment of the workforce, can have the values of “S000”, “SA01”, “SA02”, “SA03”,\n",
    "    “SE01”, “SE02”, “SE03”, “SI01”, “SI02”, or “SI03”. These correspond to the same\n",
    "    segments of the workforce as are listed in the OD file structure above.\n",
    "    [TYPE] = Job Type, can have a value of “JT00” for All Jobs, “JT01” for Primary Jobs, “JT02” for\n",
    "    All Private Jobs, “JT03” for Private Primary Jobs, “JT04” for All Federal Jobs, or “JT05”\n",
    "    for Federal Primary Jobs.\n",
    "    [YEAR] = Year of job data. Can have the value of 2002-2015 for most states\n",
    "    \n",
    "XWALK\n",
    "[ST]_xwalk.csv.gz where\n",
    "    [ST] = lowercase, 2-letter postal code for a chosen state\n",
    "\"\"\"\n",
    "print('')"
   ]
  },
  {
   "cell_type": "code",
   "execution_count": 2,
   "metadata": {},
   "outputs": [
    {
     "name": "stdout",
     "output_type": "stream",
     "text": [
      "{'or'}\n",
      "{'xwalk', 'od', 'wac', 'rac'}\n"
     ]
    }
   ],
   "source": [
    "state = set()\n",
    "dataset = set()\n",
    "for f in external_folder.rglob('*.csv'):\n",
    "    fields = f.stem.split('_')\n",
    "    state.add(fields[0])\n",
    "    dataset.add(fields[1])\n",
    "print(state)\n",
    "print(dataset)\n",
    "\n",
    "if not interim_folder.is_dir():\n",
    "    interim_folder.mkdir()"
   ]
  },
  {
   "cell_type": "code",
   "execution_count": 3,
   "metadata": {},
   "outputs": [
    {
     "name": "stdout",
     "output_type": "stream",
     "text": [
      "ST: ['or']\n",
      "PART: ['main' 'aux']\n",
      "TYPE: ['JT03' 'JT02' 'JT05' 'JT04' 'JT00' 'JT01']\n",
      "YEAR: ['2015']\n"
     ]
    }
   ],
   "source": [
    "def parse_od_file(od_file_name):    \n",
    "    df = pd.read_csv(od_file_name)\n",
    "    \n",
    "    fields = od_file_name.stem.split('_')\n",
    "    \n",
    "    df['ST'] = fields[0]\n",
    "    df['PART'] = fields[2]\n",
    "    df['TYPE'] = fields[3]\n",
    "    df['YEAR'] = fields[4]\n",
    "    \n",
    "    return df\n",
    "\n",
    "od_df = pd.concat([parse_od_file(f) for f in external_folder.rglob('*od*.csv')])\n",
    "\n",
    "for col in ['ST', 'PART', 'TYPE', 'YEAR']:\n",
    "    print(f\"{col}: {od_df[col].unique()}\")\n",
    "    \n",
    "long_od_df = pd.melt(od_df, id_vars=['ST', 'PART', 'TYPE', 'YEAR', 'w_geocode', 'h_geocode'])\n",
    "\n",
    "out_filename = interim_folder / 'lodes_od.csv'\n",
    "\n",
    "long_od_df.to_csv(out_filename, index=False)"
   ]
  },
  {
   "cell_type": "code",
   "execution_count": 5,
   "metadata": {},
   "outputs": [
    {
     "name": "stdout",
     "output_type": "stream",
     "text": [
      "ST: ['or']\n",
      "SEG: ['S000' 'SE01' 'SE03' 'SI03' 'SA03' 'SE02' 'SA01' 'SI02' 'SI01' 'SA02']\n",
      "TYPE: ['JT00' 'JT01' 'JT04' 'JT05' 'JT02' 'JT03']\n",
      "YEAR: ['2015']\n"
     ]
    }
   ],
   "source": [
    "def parse_rac_file(rac_file_name):\n",
    "    df = pd.read_csv(rac_file_name)\n",
    "    \n",
    "    fields = rac_file_name.stem.split('_')\n",
    "    \n",
    "    df['ST'] = fields[0]\n",
    "    df['SEG'] = fields[2]\n",
    "    df['TYPE'] = fields[3]\n",
    "    df['YEAR'] = fields[4]\n",
    "    \n",
    "    return df\n",
    "\n",
    "rac_df = pd.concat([parse_rac_file(f) for f in external_folder.rglob('*rac*.csv')])\n",
    "\n",
    "for col in ['ST', 'SEG', 'TYPE', 'YEAR']:\n",
    "    print(f\"{col}: {rac_df[col].unique()}\")\n",
    "    \n",
    "long_rac_df = pd.melt(rac_df, id_vars=['ST', 'SEG', 'TYPE', 'YEAR', 'h_geocode'])\n",
    "\n",
    "out_filename = interim_folder / 'lodes_rac.csv'\n",
    "\n",
    "long_rac_df.to_csv(out_filename, index=False)"
   ]
  },
  {
   "cell_type": "code",
   "execution_count": 6,
   "metadata": {},
   "outputs": [
    {
     "name": "stdout",
     "output_type": "stream",
     "text": [
      "ST: ['or']\n",
      "SEG: ['SE03' 'SI03' 'SE01' 'S000' 'SA03' 'SE02' 'SA01' 'SI02' 'SI01' 'SA02']\n",
      "TYPE: ['JT01' 'JT00' 'JT03' 'JT02' 'JT05' 'JT04']\n",
      "YEAR: ['2015']\n"
     ]
    }
   ],
   "source": [
    "def parse_wac_file(wac_file_name):\n",
    "    df = pd.read_csv(wac_file_name)\n",
    "    \n",
    "    fields = wac_file_name.stem.split('_')\n",
    "    \n",
    "    df['ST'] = fields[0]\n",
    "    df['SEG'] = fields[2]\n",
    "    df['TYPE'] = fields[3]\n",
    "    df['YEAR'] = fields[4]\n",
    "    \n",
    "    return df\n",
    "\n",
    "wac_df = pd.concat([parse_wac_file(f) for f in external_folder.rglob('*wac*.csv')])\n",
    "\n",
    "for col in ['ST', 'SEG', 'TYPE', 'YEAR']:\n",
    "    print(f\"{col}: {wac_df[col].unique()}\")\n",
    "    \n",
    "long_wac_df = pd.melt(wac_df, id_vars=['ST', 'SEG', 'TYPE', 'YEAR', 'w_geocode'])\n",
    "\n",
    "out_filename = interim_folder / 'lodes_wac.csv'\n",
    "\n",
    "long_wac_df.to_csv(out_filename, index=False)"
   ]
  },
  {
   "cell_type": "code",
   "execution_count": 8,
   "metadata": {},
   "outputs": [
    {
     "name": "stdout",
     "output_type": "stream",
     "text": [
      "ST: ['or']\n"
     ]
    }
   ],
   "source": [
    "def parse_xwalk_file(xwalk_file_name):\n",
    "    df = pd.read_csv(xwalk_file_name, low_memory=False)\n",
    "    \n",
    "    fields = xwalk_file_name.stem.split('_')\n",
    "    \n",
    "    df['ST'] = fields[0]\n",
    "    \n",
    "    return df\n",
    "\n",
    "xwalk_df = pd.concat([parse_xwalk_file(f) for f in external_folder.rglob('*xwalk*.csv')])\n",
    "\n",
    "for col in ['ST']:\n",
    "    print(f\"{col}: {xwalk_df[col].unique()}\")\n",
    "    \n",
    "long_xwalk_df = pd.melt(xwalk_df, id_vars=['ST', 'tabblk2010'])\n",
    "\n",
    "out_filename = interim_folder / 'lodes_xwalk.csv'\n",
    "\n",
    "long_xwalk_df.to_csv(out_filename, index=False)"
   ]
  },
  {
   "cell_type": "code",
   "execution_count": null,
   "metadata": {},
   "outputs": [],
   "source": []
  }
 ],
 "metadata": {
  "kernelspec": {
   "display_name": "Python 3",
   "language": "python",
   "name": "python3"
  },
  "language_info": {
   "codemirror_mode": {
    "name": "ipython",
    "version": 3
   },
   "file_extension": ".py",
   "mimetype": "text/x-python",
   "name": "python",
   "nbconvert_exporter": "python",
   "pygments_lexer": "ipython3",
   "version": "3.7.3"
  }
 },
 "nbformat": 4,
 "nbformat_minor": 2
}
